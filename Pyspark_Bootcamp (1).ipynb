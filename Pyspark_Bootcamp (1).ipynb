{
  "nbformat": 4,
  "nbformat_minor": 0,
  "metadata": {
    "colab": {
      "provenance": []
    },
    "kernelspec": {
      "name": "python3",
      "display_name": "Python 3"
    },
    "language_info": {
      "name": "python"
    }
  },
  "cells": [
    {
      "cell_type": "code",
      "source": [
        "! pip install pyspark"
      ],
      "metadata": {
        "colab": {
          "base_uri": "https://localhost:8080/"
        },
        "id": "Iarglwv2C64d",
        "outputId": "aa6be148-d88f-4478-93f7-d6e4132e4256"
      },
      "execution_count": 1,
      "outputs": [
        {
          "output_type": "stream",
          "name": "stdout",
          "text": [
            "Collecting pyspark\n",
            "  Downloading pyspark-3.4.1.tar.gz (310.8 MB)\n",
            "\u001b[2K     \u001b[90m━━━━━━━━━━━━━━━━━━━━━━━━━━━━━━━━━━━━━━━\u001b[0m \u001b[32m310.8/310.8 MB\u001b[0m \u001b[31m1.8 MB/s\u001b[0m eta \u001b[36m0:00:00\u001b[0m\n",
            "\u001b[?25h  Preparing metadata (setup.py) ... \u001b[?25l\u001b[?25hdone\n",
            "Requirement already satisfied: py4j==0.10.9.7 in /usr/local/lib/python3.10/dist-packages (from pyspark) (0.10.9.7)\n",
            "Building wheels for collected packages: pyspark\n",
            "  Building wheel for pyspark (setup.py) ... \u001b[?25l\u001b[?25hdone\n",
            "  Created wheel for pyspark: filename=pyspark-3.4.1-py2.py3-none-any.whl size=311285387 sha256=a8a695faeecd325850cc1bcb9000cb2e27283d32f2c842b0b3e8bb88538de3cc\n",
            "  Stored in directory: /root/.cache/pip/wheels/0d/77/a3/ff2f74cc9ab41f8f594dabf0579c2a7c6de920d584206e0834\n",
            "Successfully built pyspark\n",
            "Installing collected packages: pyspark\n",
            "Successfully installed pyspark-3.4.1\n"
          ]
        }
      ]
    },
    {
      "cell_type": "code",
      "source": [
        "import pyspark\n",
        "from pyspark.sql import SparkSession"
      ],
      "metadata": {
        "id": "s65vbSOa3gqp"
      },
      "execution_count": 2,
      "outputs": []
    },
    {
      "cell_type": "code",
      "source": [
        "spark=SparkSession.builder.appName('Practice').getOrCreate()\n",
        "spark"
      ],
      "metadata": {
        "colab": {
          "base_uri": "https://localhost:8080/",
          "height": 219
        },
        "id": "_-jTMgS933ah",
        "outputId": "48100263-b247-4101-a549-344895910320"
      },
      "execution_count": 3,
      "outputs": [
        {
          "output_type": "execute_result",
          "data": {
            "text/plain": [
              "<pyspark.sql.session.SparkSession at 0x7e71adee4af0>"
            ],
            "text/html": [
              "\n",
              "            <div>\n",
              "                <p><b>SparkSession - in-memory</b></p>\n",
              "                \n",
              "        <div>\n",
              "            <p><b>SparkContext</b></p>\n",
              "\n",
              "            <p><a href=\"http://dcb3d13a57b3:4040\">Spark UI</a></p>\n",
              "\n",
              "            <dl>\n",
              "              <dt>Version</dt>\n",
              "                <dd><code>v3.4.1</code></dd>\n",
              "              <dt>Master</dt>\n",
              "                <dd><code>local[*]</code></dd>\n",
              "              <dt>AppName</dt>\n",
              "                <dd><code>Practice</code></dd>\n",
              "            </dl>\n",
              "        </div>\n",
              "        \n",
              "            </div>\n",
              "        "
            ]
          },
          "metadata": {},
          "execution_count": 3
        }
      ]
    },
    {
      "cell_type": "code",
      "source": [
        "from google.colab import drive\n",
        "drive.mount('/content/drive')"
      ],
      "metadata": {
        "colab": {
          "base_uri": "https://localhost:8080/"
        },
        "id": "jem6jCtx44C5",
        "outputId": "5da8ae97-1d37-4a53-d6d5-d762c65b103d"
      },
      "execution_count": 4,
      "outputs": [
        {
          "output_type": "stream",
          "name": "stdout",
          "text": [
            "Mounted at /content/drive\n"
          ]
        }
      ]
    },
    {
      "cell_type": "code",
      "source": [
        "df1=spark.read.csv('/content/drive/My Drive/Materials/train_u6lujuX_CVtuZ9i.csv',header=True, inferSchema=True)\n",
        "type(df1)"
      ],
      "metadata": {
        "colab": {
          "base_uri": "https://localhost:8080/"
        },
        "id": "yqYyQUsj49nj",
        "outputId": "aba1aabc-dd79-427d-8331-76f8ce8388f9"
      },
      "execution_count": 5,
      "outputs": [
        {
          "output_type": "execute_result",
          "data": {
            "text/plain": [
              "pyspark.sql.dataframe.DataFrame"
            ]
          },
          "metadata": {},
          "execution_count": 5
        }
      ]
    },
    {
      "cell_type": "code",
      "source": [
        "df1.head()"
      ],
      "metadata": {
        "colab": {
          "base_uri": "https://localhost:8080/"
        },
        "id": "HCnUX8dZ5kUW",
        "outputId": "ef5712e0-6326-4c61-f68e-72a827ebc3b8"
      },
      "execution_count": 6,
      "outputs": [
        {
          "output_type": "execute_result",
          "data": {
            "text/plain": [
              "Row(Loan_ID='LP001002', Gender='Male', Married='No', Dependents='0', Education='Graduate', Self_Employed='No', ApplicantIncome=5849, CoapplicantIncome=0.0, LoanAmount=None, Loan_Amount_Term=360, Credit_History=1, Property_Area='Urban', Loan_Status='Y')"
            ]
          },
          "metadata": {},
          "execution_count": 6
        }
      ]
    },
    {
      "cell_type": "code",
      "source": [
        "df1.printSchema()"
      ],
      "metadata": {
        "colab": {
          "base_uri": "https://localhost:8080/"
        },
        "id": "ZimgJDf15lUD",
        "outputId": "97205d87-b34f-4669-d7f5-48388b029bff"
      },
      "execution_count": 7,
      "outputs": [
        {
          "output_type": "stream",
          "name": "stdout",
          "text": [
            "root\n",
            " |-- Loan_ID: string (nullable = true)\n",
            " |-- Gender: string (nullable = true)\n",
            " |-- Married: string (nullable = true)\n",
            " |-- Dependents: string (nullable = true)\n",
            " |-- Education: string (nullable = true)\n",
            " |-- Self_Employed: string (nullable = true)\n",
            " |-- ApplicantIncome: integer (nullable = true)\n",
            " |-- CoapplicantIncome: double (nullable = true)\n",
            " |-- LoanAmount: integer (nullable = true)\n",
            " |-- Loan_Amount_Term: integer (nullable = true)\n",
            " |-- Credit_History: integer (nullable = true)\n",
            " |-- Property_Area: string (nullable = true)\n",
            " |-- Loan_Status: string (nullable = true)\n",
            "\n"
          ]
        }
      ]
    },
    {
      "cell_type": "code",
      "source": [
        "# another way to read the dataset\n",
        "df2=spark.read.option('header','true').csv('/content/drive/My Drive/Materials/train_u6lujuX_CVtuZ9i.csv',inferSchema=True)\n",
        "df2.printSchema()"
      ],
      "metadata": {
        "colab": {
          "base_uri": "https://localhost:8080/"
        },
        "id": "xG9CRywB8iqA",
        "outputId": "c4233d70-2a46-4aa5-c6ff-4f628d7acc0d"
      },
      "execution_count": 8,
      "outputs": [
        {
          "output_type": "stream",
          "name": "stdout",
          "text": [
            "root\n",
            " |-- Loan_ID: string (nullable = true)\n",
            " |-- Gender: string (nullable = true)\n",
            " |-- Married: string (nullable = true)\n",
            " |-- Dependents: string (nullable = true)\n",
            " |-- Education: string (nullable = true)\n",
            " |-- Self_Employed: string (nullable = true)\n",
            " |-- ApplicantIncome: integer (nullable = true)\n",
            " |-- CoapplicantIncome: double (nullable = true)\n",
            " |-- LoanAmount: integer (nullable = true)\n",
            " |-- Loan_Amount_Term: integer (nullable = true)\n",
            " |-- Credit_History: integer (nullable = true)\n",
            " |-- Property_Area: string (nullable = true)\n",
            " |-- Loan_Status: string (nullable = true)\n",
            "\n"
          ]
        }
      ]
    },
    {
      "cell_type": "code",
      "source": [
        "df2.show()"
      ],
      "metadata": {
        "colab": {
          "base_uri": "https://localhost:8080/"
        },
        "id": "6m-ruGh283s1",
        "outputId": "7e799f54-d4a1-449a-e026-5a84512ffe84"
      },
      "execution_count": 9,
      "outputs": [
        {
          "output_type": "stream",
          "name": "stdout",
          "text": [
            "+--------+------+-------+----------+------------+-------------+---------------+-----------------+----------+----------------+--------------+-------------+-----------+\n",
            "| Loan_ID|Gender|Married|Dependents|   Education|Self_Employed|ApplicantIncome|CoapplicantIncome|LoanAmount|Loan_Amount_Term|Credit_History|Property_Area|Loan_Status|\n",
            "+--------+------+-------+----------+------------+-------------+---------------+-----------------+----------+----------------+--------------+-------------+-----------+\n",
            "|LP001002|  Male|     No|         0|    Graduate|           No|           5849|              0.0|      null|             360|             1|        Urban|          Y|\n",
            "|LP001003|  Male|    Yes|         1|    Graduate|           No|           4583|           1508.0|       128|             360|             1|        Rural|          N|\n",
            "|LP001005|  Male|    Yes|         0|    Graduate|          Yes|           3000|              0.0|        66|             360|             1|        Urban|          Y|\n",
            "|LP001006|  Male|    Yes|         0|Not Graduate|           No|           2583|           2358.0|       120|             360|             1|        Urban|          Y|\n",
            "|LP001008|  Male|     No|         0|    Graduate|           No|           6000|              0.0|       141|             360|             1|        Urban|          Y|\n",
            "|LP001011|  Male|    Yes|         2|    Graduate|          Yes|           5417|           4196.0|       267|             360|             1|        Urban|          Y|\n",
            "|LP001013|  Male|    Yes|         0|Not Graduate|           No|           2333|           1516.0|        95|             360|             1|        Urban|          Y|\n",
            "|LP001014|  Male|    Yes|        3+|    Graduate|           No|           3036|           2504.0|       158|             360|             0|    Semiurban|          N|\n",
            "|LP001018|  Male|    Yes|         2|    Graduate|           No|           4006|           1526.0|       168|             360|             1|        Urban|          Y|\n",
            "|LP001020|  Male|    Yes|         1|    Graduate|           No|          12841|          10968.0|       349|             360|             1|    Semiurban|          N|\n",
            "|LP001024|  Male|    Yes|         2|    Graduate|           No|           3200|            700.0|        70|             360|             1|        Urban|          Y|\n",
            "|LP001027|  Male|    Yes|         2|    Graduate|         null|           2500|           1840.0|       109|             360|             1|        Urban|          Y|\n",
            "|LP001028|  Male|    Yes|         2|    Graduate|           No|           3073|           8106.0|       200|             360|             1|        Urban|          Y|\n",
            "|LP001029|  Male|     No|         0|    Graduate|           No|           1853|           2840.0|       114|             360|             1|        Rural|          N|\n",
            "|LP001030|  Male|    Yes|         2|    Graduate|           No|           1299|           1086.0|        17|             120|             1|        Urban|          Y|\n",
            "|LP001032|  Male|     No|         0|    Graduate|           No|           4950|              0.0|       125|             360|             1|        Urban|          Y|\n",
            "|LP001034|  Male|     No|         1|Not Graduate|           No|           3596|              0.0|       100|             240|          null|        Urban|          Y|\n",
            "|LP001036|Female|     No|         0|    Graduate|           No|           3510|              0.0|        76|             360|             0|        Urban|          N|\n",
            "|LP001038|  Male|    Yes|         0|Not Graduate|           No|           4887|              0.0|       133|             360|             1|        Rural|          N|\n",
            "|LP001041|  Male|    Yes|         0|    Graduate|         null|           2600|           3500.0|       115|            null|             1|        Urban|          Y|\n",
            "+--------+------+-------+----------+------------+-------------+---------------+-----------------+----------+----------------+--------------+-------------+-----------+\n",
            "only showing top 20 rows\n",
            "\n"
          ]
        }
      ]
    },
    {
      "cell_type": "code",
      "source": [
        "df2.select('Education').show()"
      ],
      "metadata": {
        "colab": {
          "base_uri": "https://localhost:8080/"
        },
        "id": "IVvKvSBw88Ec",
        "outputId": "a6f3f3cc-b3c2-4814-ef4a-75d105a7f153"
      },
      "execution_count": 10,
      "outputs": [
        {
          "output_type": "stream",
          "name": "stdout",
          "text": [
            "+------------+\n",
            "|   Education|\n",
            "+------------+\n",
            "|    Graduate|\n",
            "|    Graduate|\n",
            "|    Graduate|\n",
            "|Not Graduate|\n",
            "|    Graduate|\n",
            "|    Graduate|\n",
            "|Not Graduate|\n",
            "|    Graduate|\n",
            "|    Graduate|\n",
            "|    Graduate|\n",
            "|    Graduate|\n",
            "|    Graduate|\n",
            "|    Graduate|\n",
            "|    Graduate|\n",
            "|    Graduate|\n",
            "|    Graduate|\n",
            "|Not Graduate|\n",
            "|    Graduate|\n",
            "|Not Graduate|\n",
            "|    Graduate|\n",
            "+------------+\n",
            "only showing top 20 rows\n",
            "\n"
          ]
        }
      ]
    },
    {
      "cell_type": "code",
      "source": [
        "df2.select(['Education','Credit_History']).show()#select columns"
      ],
      "metadata": {
        "colab": {
          "base_uri": "https://localhost:8080/"
        },
        "id": "RUxuQRb59C0n",
        "outputId": "bd77a3c4-e678-4700-8807-f6be7112eada"
      },
      "execution_count": 11,
      "outputs": [
        {
          "output_type": "stream",
          "name": "stdout",
          "text": [
            "+------------+--------------+\n",
            "|   Education|Credit_History|\n",
            "+------------+--------------+\n",
            "|    Graduate|             1|\n",
            "|    Graduate|             1|\n",
            "|    Graduate|             1|\n",
            "|Not Graduate|             1|\n",
            "|    Graduate|             1|\n",
            "|    Graduate|             1|\n",
            "|Not Graduate|             1|\n",
            "|    Graduate|             0|\n",
            "|    Graduate|             1|\n",
            "|    Graduate|             1|\n",
            "|    Graduate|             1|\n",
            "|    Graduate|             1|\n",
            "|    Graduate|             1|\n",
            "|    Graduate|             1|\n",
            "|    Graduate|             1|\n",
            "|    Graduate|             1|\n",
            "|Not Graduate|          null|\n",
            "|    Graduate|             0|\n",
            "|Not Graduate|             1|\n",
            "|    Graduate|             1|\n",
            "+------------+--------------+\n",
            "only showing top 20 rows\n",
            "\n"
          ]
        }
      ]
    },
    {
      "cell_type": "code",
      "source": [
        "df2.dtypes#check data types"
      ],
      "metadata": {
        "colab": {
          "base_uri": "https://localhost:8080/"
        },
        "id": "QxLdtysm9NJK",
        "outputId": "e14cb42d-4a28-443f-fec9-59bd3e07418c"
      },
      "execution_count": 12,
      "outputs": [
        {
          "output_type": "execute_result",
          "data": {
            "text/plain": [
              "[('Loan_ID', 'string'),\n",
              " ('Gender', 'string'),\n",
              " ('Married', 'string'),\n",
              " ('Dependents', 'string'),\n",
              " ('Education', 'string'),\n",
              " ('Self_Employed', 'string'),\n",
              " ('ApplicantIncome', 'int'),\n",
              " ('CoapplicantIncome', 'double'),\n",
              " ('LoanAmount', 'int'),\n",
              " ('Loan_Amount_Term', 'int'),\n",
              " ('Credit_History', 'int'),\n",
              " ('Property_Area', 'string'),\n",
              " ('Loan_Status', 'string')]"
            ]
          },
          "metadata": {},
          "execution_count": 12
        }
      ]
    },
    {
      "cell_type": "code",
      "source": [
        "# statistical summary\n",
        "df2.describe().show()"
      ],
      "metadata": {
        "colab": {
          "base_uri": "https://localhost:8080/"
        },
        "id": "gYFmNFGb9RCx",
        "outputId": "9a25f87f-324a-4d9f-b0cd-c8687a5f468a"
      },
      "execution_count": 13,
      "outputs": [
        {
          "output_type": "stream",
          "name": "stdout",
          "text": [
            "+-------+--------+------+-------+------------------+------------+-------------+-----------------+------------------+------------------+-----------------+------------------+-------------+-----------+\n",
            "|summary| Loan_ID|Gender|Married|        Dependents|   Education|Self_Employed|  ApplicantIncome| CoapplicantIncome|        LoanAmount| Loan_Amount_Term|    Credit_History|Property_Area|Loan_Status|\n",
            "+-------+--------+------+-------+------------------+------------+-------------+-----------------+------------------+------------------+-----------------+------------------+-------------+-----------+\n",
            "|  count|     614|   601|    611|               599|         614|          582|              614|               614|               592|              600|               564|          614|        614|\n",
            "|   mean|    null|  null|   null|0.5547445255474452|        null|         null|5403.459283387622| 1621.245798027101|146.41216216216216|            342.0|0.8421985815602837|         null|       null|\n",
            "| stddev|    null|  null|   null|0.7853289861674311|        null|         null|6109.041673387181|2926.2483692241894| 85.58732523570545|65.12040985461255|0.3648783192364052|         null|       null|\n",
            "|    min|LP001002|Female|     No|                 0|    Graduate|           No|              150|               0.0|                 9|               12|                 0|        Rural|          N|\n",
            "|    max|LP002990|  Male|    Yes|                3+|Not Graduate|          Yes|            81000|           41667.0|               700|              480|                 1|        Urban|          Y|\n",
            "+-------+--------+------+-------+------------------+------------+-------------+-----------------+------------------+------------------+-----------------+------------------+-------------+-----------+\n",
            "\n"
          ]
        }
      ]
    },
    {
      "cell_type": "code",
      "source": [
        "# add columns\n",
        "df3=df2.withColumn('NewLoanAmount',df2['LoanAmount']+2)"
      ],
      "metadata": {
        "id": "kMhyRtlj9RKl"
      },
      "execution_count": 14,
      "outputs": []
    },
    {
      "cell_type": "code",
      "source": [
        "df3.show()"
      ],
      "metadata": {
        "colab": {
          "base_uri": "https://localhost:8080/"
        },
        "id": "saQSF8fB9RQd",
        "outputId": "f97209c1-bb90-40ad-f180-134a2bdc8762"
      },
      "execution_count": 15,
      "outputs": [
        {
          "output_type": "stream",
          "name": "stdout",
          "text": [
            "+--------+------+-------+----------+------------+-------------+---------------+-----------------+----------+----------------+--------------+-------------+-----------+-------------+\n",
            "| Loan_ID|Gender|Married|Dependents|   Education|Self_Employed|ApplicantIncome|CoapplicantIncome|LoanAmount|Loan_Amount_Term|Credit_History|Property_Area|Loan_Status|NewLoanAmount|\n",
            "+--------+------+-------+----------+------------+-------------+---------------+-----------------+----------+----------------+--------------+-------------+-----------+-------------+\n",
            "|LP001002|  Male|     No|         0|    Graduate|           No|           5849|              0.0|      null|             360|             1|        Urban|          Y|         null|\n",
            "|LP001003|  Male|    Yes|         1|    Graduate|           No|           4583|           1508.0|       128|             360|             1|        Rural|          N|          130|\n",
            "|LP001005|  Male|    Yes|         0|    Graduate|          Yes|           3000|              0.0|        66|             360|             1|        Urban|          Y|           68|\n",
            "|LP001006|  Male|    Yes|         0|Not Graduate|           No|           2583|           2358.0|       120|             360|             1|        Urban|          Y|          122|\n",
            "|LP001008|  Male|     No|         0|    Graduate|           No|           6000|              0.0|       141|             360|             1|        Urban|          Y|          143|\n",
            "|LP001011|  Male|    Yes|         2|    Graduate|          Yes|           5417|           4196.0|       267|             360|             1|        Urban|          Y|          269|\n",
            "|LP001013|  Male|    Yes|         0|Not Graduate|           No|           2333|           1516.0|        95|             360|             1|        Urban|          Y|           97|\n",
            "|LP001014|  Male|    Yes|        3+|    Graduate|           No|           3036|           2504.0|       158|             360|             0|    Semiurban|          N|          160|\n",
            "|LP001018|  Male|    Yes|         2|    Graduate|           No|           4006|           1526.0|       168|             360|             1|        Urban|          Y|          170|\n",
            "|LP001020|  Male|    Yes|         1|    Graduate|           No|          12841|          10968.0|       349|             360|             1|    Semiurban|          N|          351|\n",
            "|LP001024|  Male|    Yes|         2|    Graduate|           No|           3200|            700.0|        70|             360|             1|        Urban|          Y|           72|\n",
            "|LP001027|  Male|    Yes|         2|    Graduate|         null|           2500|           1840.0|       109|             360|             1|        Urban|          Y|          111|\n",
            "|LP001028|  Male|    Yes|         2|    Graduate|           No|           3073|           8106.0|       200|             360|             1|        Urban|          Y|          202|\n",
            "|LP001029|  Male|     No|         0|    Graduate|           No|           1853|           2840.0|       114|             360|             1|        Rural|          N|          116|\n",
            "|LP001030|  Male|    Yes|         2|    Graduate|           No|           1299|           1086.0|        17|             120|             1|        Urban|          Y|           19|\n",
            "|LP001032|  Male|     No|         0|    Graduate|           No|           4950|              0.0|       125|             360|             1|        Urban|          Y|          127|\n",
            "|LP001034|  Male|     No|         1|Not Graduate|           No|           3596|              0.0|       100|             240|          null|        Urban|          Y|          102|\n",
            "|LP001036|Female|     No|         0|    Graduate|           No|           3510|              0.0|        76|             360|             0|        Urban|          N|           78|\n",
            "|LP001038|  Male|    Yes|         0|Not Graduate|           No|           4887|              0.0|       133|             360|             1|        Rural|          N|          135|\n",
            "|LP001041|  Male|    Yes|         0|    Graduate|         null|           2600|           3500.0|       115|            null|             1|        Urban|          Y|          117|\n",
            "+--------+------+-------+----------+------------+-------------+---------------+-----------------+----------+----------------+--------------+-------------+-----------+-------------+\n",
            "only showing top 20 rows\n",
            "\n"
          ]
        }
      ]
    },
    {
      "cell_type": "code",
      "source": [
        "# Drop columns\n",
        "df4=df3.drop('NewLoanAmount')\n",
        "df4.show()"
      ],
      "metadata": {
        "colab": {
          "base_uri": "https://localhost:8080/"
        },
        "id": "eqxjTcNa9RTi",
        "outputId": "73350aa9-4a9d-4402-c617-f0b199549def"
      },
      "execution_count": 16,
      "outputs": [
        {
          "output_type": "stream",
          "name": "stdout",
          "text": [
            "+--------+------+-------+----------+------------+-------------+---------------+-----------------+----------+----------------+--------------+-------------+-----------+\n",
            "| Loan_ID|Gender|Married|Dependents|   Education|Self_Employed|ApplicantIncome|CoapplicantIncome|LoanAmount|Loan_Amount_Term|Credit_History|Property_Area|Loan_Status|\n",
            "+--------+------+-------+----------+------------+-------------+---------------+-----------------+----------+----------------+--------------+-------------+-----------+\n",
            "|LP001002|  Male|     No|         0|    Graduate|           No|           5849|              0.0|      null|             360|             1|        Urban|          Y|\n",
            "|LP001003|  Male|    Yes|         1|    Graduate|           No|           4583|           1508.0|       128|             360|             1|        Rural|          N|\n",
            "|LP001005|  Male|    Yes|         0|    Graduate|          Yes|           3000|              0.0|        66|             360|             1|        Urban|          Y|\n",
            "|LP001006|  Male|    Yes|         0|Not Graduate|           No|           2583|           2358.0|       120|             360|             1|        Urban|          Y|\n",
            "|LP001008|  Male|     No|         0|    Graduate|           No|           6000|              0.0|       141|             360|             1|        Urban|          Y|\n",
            "|LP001011|  Male|    Yes|         2|    Graduate|          Yes|           5417|           4196.0|       267|             360|             1|        Urban|          Y|\n",
            "|LP001013|  Male|    Yes|         0|Not Graduate|           No|           2333|           1516.0|        95|             360|             1|        Urban|          Y|\n",
            "|LP001014|  Male|    Yes|        3+|    Graduate|           No|           3036|           2504.0|       158|             360|             0|    Semiurban|          N|\n",
            "|LP001018|  Male|    Yes|         2|    Graduate|           No|           4006|           1526.0|       168|             360|             1|        Urban|          Y|\n",
            "|LP001020|  Male|    Yes|         1|    Graduate|           No|          12841|          10968.0|       349|             360|             1|    Semiurban|          N|\n",
            "|LP001024|  Male|    Yes|         2|    Graduate|           No|           3200|            700.0|        70|             360|             1|        Urban|          Y|\n",
            "|LP001027|  Male|    Yes|         2|    Graduate|         null|           2500|           1840.0|       109|             360|             1|        Urban|          Y|\n",
            "|LP001028|  Male|    Yes|         2|    Graduate|           No|           3073|           8106.0|       200|             360|             1|        Urban|          Y|\n",
            "|LP001029|  Male|     No|         0|    Graduate|           No|           1853|           2840.0|       114|             360|             1|        Rural|          N|\n",
            "|LP001030|  Male|    Yes|         2|    Graduate|           No|           1299|           1086.0|        17|             120|             1|        Urban|          Y|\n",
            "|LP001032|  Male|     No|         0|    Graduate|           No|           4950|              0.0|       125|             360|             1|        Urban|          Y|\n",
            "|LP001034|  Male|     No|         1|Not Graduate|           No|           3596|              0.0|       100|             240|          null|        Urban|          Y|\n",
            "|LP001036|Female|     No|         0|    Graduate|           No|           3510|              0.0|        76|             360|             0|        Urban|          N|\n",
            "|LP001038|  Male|    Yes|         0|Not Graduate|           No|           4887|              0.0|       133|             360|             1|        Rural|          N|\n",
            "|LP001041|  Male|    Yes|         0|    Graduate|         null|           2600|           3500.0|       115|            null|             1|        Urban|          Y|\n",
            "+--------+------+-------+----------+------------+-------------+---------------+-----------------+----------+----------------+--------------+-------------+-----------+\n",
            "only showing top 20 rows\n",
            "\n"
          ]
        }
      ]
    },
    {
      "cell_type": "code",
      "source": [
        "# rename the columns\n",
        "df5=df4.withColumnRenamed('LoanAmount','Loan_Amount')\n",
        "df5.show()"
      ],
      "metadata": {
        "colab": {
          "base_uri": "https://localhost:8080/"
        },
        "id": "o2bmzwM_9RW9",
        "outputId": "2ecdfeb2-9c44-4770-bcbb-5683f9d1d64d"
      },
      "execution_count": 17,
      "outputs": [
        {
          "output_type": "stream",
          "name": "stdout",
          "text": [
            "+--------+------+-------+----------+------------+-------------+---------------+-----------------+-----------+----------------+--------------+-------------+-----------+\n",
            "| Loan_ID|Gender|Married|Dependents|   Education|Self_Employed|ApplicantIncome|CoapplicantIncome|Loan_Amount|Loan_Amount_Term|Credit_History|Property_Area|Loan_Status|\n",
            "+--------+------+-------+----------+------------+-------------+---------------+-----------------+-----------+----------------+--------------+-------------+-----------+\n",
            "|LP001002|  Male|     No|         0|    Graduate|           No|           5849|              0.0|       null|             360|             1|        Urban|          Y|\n",
            "|LP001003|  Male|    Yes|         1|    Graduate|           No|           4583|           1508.0|        128|             360|             1|        Rural|          N|\n",
            "|LP001005|  Male|    Yes|         0|    Graduate|          Yes|           3000|              0.0|         66|             360|             1|        Urban|          Y|\n",
            "|LP001006|  Male|    Yes|         0|Not Graduate|           No|           2583|           2358.0|        120|             360|             1|        Urban|          Y|\n",
            "|LP001008|  Male|     No|         0|    Graduate|           No|           6000|              0.0|        141|             360|             1|        Urban|          Y|\n",
            "|LP001011|  Male|    Yes|         2|    Graduate|          Yes|           5417|           4196.0|        267|             360|             1|        Urban|          Y|\n",
            "|LP001013|  Male|    Yes|         0|Not Graduate|           No|           2333|           1516.0|         95|             360|             1|        Urban|          Y|\n",
            "|LP001014|  Male|    Yes|        3+|    Graduate|           No|           3036|           2504.0|        158|             360|             0|    Semiurban|          N|\n",
            "|LP001018|  Male|    Yes|         2|    Graduate|           No|           4006|           1526.0|        168|             360|             1|        Urban|          Y|\n",
            "|LP001020|  Male|    Yes|         1|    Graduate|           No|          12841|          10968.0|        349|             360|             1|    Semiurban|          N|\n",
            "|LP001024|  Male|    Yes|         2|    Graduate|           No|           3200|            700.0|         70|             360|             1|        Urban|          Y|\n",
            "|LP001027|  Male|    Yes|         2|    Graduate|         null|           2500|           1840.0|        109|             360|             1|        Urban|          Y|\n",
            "|LP001028|  Male|    Yes|         2|    Graduate|           No|           3073|           8106.0|        200|             360|             1|        Urban|          Y|\n",
            "|LP001029|  Male|     No|         0|    Graduate|           No|           1853|           2840.0|        114|             360|             1|        Rural|          N|\n",
            "|LP001030|  Male|    Yes|         2|    Graduate|           No|           1299|           1086.0|         17|             120|             1|        Urban|          Y|\n",
            "|LP001032|  Male|     No|         0|    Graduate|           No|           4950|              0.0|        125|             360|             1|        Urban|          Y|\n",
            "|LP001034|  Male|     No|         1|Not Graduate|           No|           3596|              0.0|        100|             240|          null|        Urban|          Y|\n",
            "|LP001036|Female|     No|         0|    Graduate|           No|           3510|              0.0|         76|             360|             0|        Urban|          N|\n",
            "|LP001038|  Male|    Yes|         0|Not Graduate|           No|           4887|              0.0|        133|             360|             1|        Rural|          N|\n",
            "|LP001041|  Male|    Yes|         0|    Graduate|         null|           2600|           3500.0|        115|            null|             1|        Urban|          Y|\n",
            "+--------+------+-------+----------+------------+-------------+---------------+-----------------+-----------+----------------+--------------+-------------+-----------+\n",
            "only showing top 20 rows\n",
            "\n"
          ]
        }
      ]
    },
    {
      "cell_type": "code",
      "source": [
        "# drop nulls\n",
        "df4.na.drop().show()"
      ],
      "metadata": {
        "colab": {
          "base_uri": "https://localhost:8080/"
        },
        "id": "VBe5mKN-9RZ8",
        "outputId": "e6fb2db7-af37-49fb-cac8-2321ab02787d"
      },
      "execution_count": 18,
      "outputs": [
        {
          "output_type": "stream",
          "name": "stdout",
          "text": [
            "+--------+------+-------+----------+------------+-------------+---------------+-----------------+----------+----------------+--------------+-------------+-----------+\n",
            "| Loan_ID|Gender|Married|Dependents|   Education|Self_Employed|ApplicantIncome|CoapplicantIncome|LoanAmount|Loan_Amount_Term|Credit_History|Property_Area|Loan_Status|\n",
            "+--------+------+-------+----------+------------+-------------+---------------+-----------------+----------+----------------+--------------+-------------+-----------+\n",
            "|LP001003|  Male|    Yes|         1|    Graduate|           No|           4583|           1508.0|       128|             360|             1|        Rural|          N|\n",
            "|LP001005|  Male|    Yes|         0|    Graduate|          Yes|           3000|              0.0|        66|             360|             1|        Urban|          Y|\n",
            "|LP001006|  Male|    Yes|         0|Not Graduate|           No|           2583|           2358.0|       120|             360|             1|        Urban|          Y|\n",
            "|LP001008|  Male|     No|         0|    Graduate|           No|           6000|              0.0|       141|             360|             1|        Urban|          Y|\n",
            "|LP001011|  Male|    Yes|         2|    Graduate|          Yes|           5417|           4196.0|       267|             360|             1|        Urban|          Y|\n",
            "|LP001013|  Male|    Yes|         0|Not Graduate|           No|           2333|           1516.0|        95|             360|             1|        Urban|          Y|\n",
            "|LP001014|  Male|    Yes|        3+|    Graduate|           No|           3036|           2504.0|       158|             360|             0|    Semiurban|          N|\n",
            "|LP001018|  Male|    Yes|         2|    Graduate|           No|           4006|           1526.0|       168|             360|             1|        Urban|          Y|\n",
            "|LP001020|  Male|    Yes|         1|    Graduate|           No|          12841|          10968.0|       349|             360|             1|    Semiurban|          N|\n",
            "|LP001024|  Male|    Yes|         2|    Graduate|           No|           3200|            700.0|        70|             360|             1|        Urban|          Y|\n",
            "|LP001028|  Male|    Yes|         2|    Graduate|           No|           3073|           8106.0|       200|             360|             1|        Urban|          Y|\n",
            "|LP001029|  Male|     No|         0|    Graduate|           No|           1853|           2840.0|       114|             360|             1|        Rural|          N|\n",
            "|LP001030|  Male|    Yes|         2|    Graduate|           No|           1299|           1086.0|        17|             120|             1|        Urban|          Y|\n",
            "|LP001032|  Male|     No|         0|    Graduate|           No|           4950|              0.0|       125|             360|             1|        Urban|          Y|\n",
            "|LP001036|Female|     No|         0|    Graduate|           No|           3510|              0.0|        76|             360|             0|        Urban|          N|\n",
            "|LP001038|  Male|    Yes|         0|Not Graduate|           No|           4887|              0.0|       133|             360|             1|        Rural|          N|\n",
            "|LP001043|  Male|    Yes|         0|Not Graduate|           No|           7660|              0.0|       104|             360|             0|        Urban|          N|\n",
            "|LP001046|  Male|    Yes|         1|    Graduate|           No|           5955|           5625.0|       315|             360|             1|        Urban|          Y|\n",
            "|LP001047|  Male|    Yes|         0|Not Graduate|           No|           2600|           1911.0|       116|             360|             0|    Semiurban|          N|\n",
            "|LP001066|  Male|    Yes|         0|    Graduate|          Yes|           9560|              0.0|       191|             360|             1|    Semiurban|          Y|\n",
            "+--------+------+-------+----------+------------+-------------+---------------+-----------------+----------+----------------+--------------+-------------+-----------+\n",
            "only showing top 20 rows\n",
            "\n"
          ]
        }
      ]
    },
    {
      "cell_type": "code",
      "source": [
        "#drop nulls how='all\n",
        "df4.na.drop(how='all').show()\n"
      ],
      "metadata": {
        "colab": {
          "base_uri": "https://localhost:8080/"
        },
        "id": "d0_H0Kxp9RcS",
        "outputId": "bac1e672-f832-4752-c018-f5c0ccc69222"
      },
      "execution_count": 19,
      "outputs": [
        {
          "output_type": "stream",
          "name": "stdout",
          "text": [
            "+--------+------+-------+----------+------------+-------------+---------------+-----------------+----------+----------------+--------------+-------------+-----------+\n",
            "| Loan_ID|Gender|Married|Dependents|   Education|Self_Employed|ApplicantIncome|CoapplicantIncome|LoanAmount|Loan_Amount_Term|Credit_History|Property_Area|Loan_Status|\n",
            "+--------+------+-------+----------+------------+-------------+---------------+-----------------+----------+----------------+--------------+-------------+-----------+\n",
            "|LP001002|  Male|     No|         0|    Graduate|           No|           5849|              0.0|      null|             360|             1|        Urban|          Y|\n",
            "|LP001003|  Male|    Yes|         1|    Graduate|           No|           4583|           1508.0|       128|             360|             1|        Rural|          N|\n",
            "|LP001005|  Male|    Yes|         0|    Graduate|          Yes|           3000|              0.0|        66|             360|             1|        Urban|          Y|\n",
            "|LP001006|  Male|    Yes|         0|Not Graduate|           No|           2583|           2358.0|       120|             360|             1|        Urban|          Y|\n",
            "|LP001008|  Male|     No|         0|    Graduate|           No|           6000|              0.0|       141|             360|             1|        Urban|          Y|\n",
            "|LP001011|  Male|    Yes|         2|    Graduate|          Yes|           5417|           4196.0|       267|             360|             1|        Urban|          Y|\n",
            "|LP001013|  Male|    Yes|         0|Not Graduate|           No|           2333|           1516.0|        95|             360|             1|        Urban|          Y|\n",
            "|LP001014|  Male|    Yes|        3+|    Graduate|           No|           3036|           2504.0|       158|             360|             0|    Semiurban|          N|\n",
            "|LP001018|  Male|    Yes|         2|    Graduate|           No|           4006|           1526.0|       168|             360|             1|        Urban|          Y|\n",
            "|LP001020|  Male|    Yes|         1|    Graduate|           No|          12841|          10968.0|       349|             360|             1|    Semiurban|          N|\n",
            "|LP001024|  Male|    Yes|         2|    Graduate|           No|           3200|            700.0|        70|             360|             1|        Urban|          Y|\n",
            "|LP001027|  Male|    Yes|         2|    Graduate|         null|           2500|           1840.0|       109|             360|             1|        Urban|          Y|\n",
            "|LP001028|  Male|    Yes|         2|    Graduate|           No|           3073|           8106.0|       200|             360|             1|        Urban|          Y|\n",
            "|LP001029|  Male|     No|         0|    Graduate|           No|           1853|           2840.0|       114|             360|             1|        Rural|          N|\n",
            "|LP001030|  Male|    Yes|         2|    Graduate|           No|           1299|           1086.0|        17|             120|             1|        Urban|          Y|\n",
            "|LP001032|  Male|     No|         0|    Graduate|           No|           4950|              0.0|       125|             360|             1|        Urban|          Y|\n",
            "|LP001034|  Male|     No|         1|Not Graduate|           No|           3596|              0.0|       100|             240|          null|        Urban|          Y|\n",
            "|LP001036|Female|     No|         0|    Graduate|           No|           3510|              0.0|        76|             360|             0|        Urban|          N|\n",
            "|LP001038|  Male|    Yes|         0|Not Graduate|           No|           4887|              0.0|       133|             360|             1|        Rural|          N|\n",
            "|LP001041|  Male|    Yes|         0|    Graduate|         null|           2600|           3500.0|       115|            null|             1|        Urban|          Y|\n",
            "+--------+------+-------+----------+------------+-------------+---------------+-----------------+----------+----------------+--------------+-------------+-----------+\n",
            "only showing top 20 rows\n",
            "\n"
          ]
        }
      ]
    },
    {
      "cell_type": "code",
      "source": [
        "#drop null how='any'\n",
        "df4.na.drop(how='any').show()"
      ],
      "metadata": {
        "colab": {
          "base_uri": "https://localhost:8080/"
        },
        "id": "XfFPf6no9RfK",
        "outputId": "128295a4-ff1a-4e9e-cb9b-755fd930ccd9"
      },
      "execution_count": 20,
      "outputs": [
        {
          "output_type": "stream",
          "name": "stdout",
          "text": [
            "+--------+------+-------+----------+------------+-------------+---------------+-----------------+----------+----------------+--------------+-------------+-----------+\n",
            "| Loan_ID|Gender|Married|Dependents|   Education|Self_Employed|ApplicantIncome|CoapplicantIncome|LoanAmount|Loan_Amount_Term|Credit_History|Property_Area|Loan_Status|\n",
            "+--------+------+-------+----------+------------+-------------+---------------+-----------------+----------+----------------+--------------+-------------+-----------+\n",
            "|LP001003|  Male|    Yes|         1|    Graduate|           No|           4583|           1508.0|       128|             360|             1|        Rural|          N|\n",
            "|LP001005|  Male|    Yes|         0|    Graduate|          Yes|           3000|              0.0|        66|             360|             1|        Urban|          Y|\n",
            "|LP001006|  Male|    Yes|         0|Not Graduate|           No|           2583|           2358.0|       120|             360|             1|        Urban|          Y|\n",
            "|LP001008|  Male|     No|         0|    Graduate|           No|           6000|              0.0|       141|             360|             1|        Urban|          Y|\n",
            "|LP001011|  Male|    Yes|         2|    Graduate|          Yes|           5417|           4196.0|       267|             360|             1|        Urban|          Y|\n",
            "|LP001013|  Male|    Yes|         0|Not Graduate|           No|           2333|           1516.0|        95|             360|             1|        Urban|          Y|\n",
            "|LP001014|  Male|    Yes|        3+|    Graduate|           No|           3036|           2504.0|       158|             360|             0|    Semiurban|          N|\n",
            "|LP001018|  Male|    Yes|         2|    Graduate|           No|           4006|           1526.0|       168|             360|             1|        Urban|          Y|\n",
            "|LP001020|  Male|    Yes|         1|    Graduate|           No|          12841|          10968.0|       349|             360|             1|    Semiurban|          N|\n",
            "|LP001024|  Male|    Yes|         2|    Graduate|           No|           3200|            700.0|        70|             360|             1|        Urban|          Y|\n",
            "|LP001028|  Male|    Yes|         2|    Graduate|           No|           3073|           8106.0|       200|             360|             1|        Urban|          Y|\n",
            "|LP001029|  Male|     No|         0|    Graduate|           No|           1853|           2840.0|       114|             360|             1|        Rural|          N|\n",
            "|LP001030|  Male|    Yes|         2|    Graduate|           No|           1299|           1086.0|        17|             120|             1|        Urban|          Y|\n",
            "|LP001032|  Male|     No|         0|    Graduate|           No|           4950|              0.0|       125|             360|             1|        Urban|          Y|\n",
            "|LP001036|Female|     No|         0|    Graduate|           No|           3510|              0.0|        76|             360|             0|        Urban|          N|\n",
            "|LP001038|  Male|    Yes|         0|Not Graduate|           No|           4887|              0.0|       133|             360|             1|        Rural|          N|\n",
            "|LP001043|  Male|    Yes|         0|Not Graduate|           No|           7660|              0.0|       104|             360|             0|        Urban|          N|\n",
            "|LP001046|  Male|    Yes|         1|    Graduate|           No|           5955|           5625.0|       315|             360|             1|        Urban|          Y|\n",
            "|LP001047|  Male|    Yes|         0|Not Graduate|           No|           2600|           1911.0|       116|             360|             0|    Semiurban|          N|\n",
            "|LP001066|  Male|    Yes|         0|    Graduate|          Yes|           9560|              0.0|       191|             360|             1|    Semiurban|          Y|\n",
            "+--------+------+-------+----------+------------+-------------+---------------+-----------------+----------+----------------+--------------+-------------+-----------+\n",
            "only showing top 20 rows\n",
            "\n"
          ]
        }
      ]
    },
    {
      "cell_type": "code",
      "source": [
        "# drop nulls thresh\n",
        "df4.na.drop(thresh=2).show()"
      ],
      "metadata": {
        "colab": {
          "base_uri": "https://localhost:8080/"
        },
        "id": "VzBSmsbtAAf4",
        "outputId": "9d72f3eb-98ac-40c8-bd05-f9a1fce4b517"
      },
      "execution_count": 21,
      "outputs": [
        {
          "output_type": "stream",
          "name": "stdout",
          "text": [
            "+--------+------+-------+----------+------------+-------------+---------------+-----------------+----------+----------------+--------------+-------------+-----------+\n",
            "| Loan_ID|Gender|Married|Dependents|   Education|Self_Employed|ApplicantIncome|CoapplicantIncome|LoanAmount|Loan_Amount_Term|Credit_History|Property_Area|Loan_Status|\n",
            "+--------+------+-------+----------+------------+-------------+---------------+-----------------+----------+----------------+--------------+-------------+-----------+\n",
            "|LP001002|  Male|     No|         0|    Graduate|           No|           5849|              0.0|      null|             360|             1|        Urban|          Y|\n",
            "|LP001003|  Male|    Yes|         1|    Graduate|           No|           4583|           1508.0|       128|             360|             1|        Rural|          N|\n",
            "|LP001005|  Male|    Yes|         0|    Graduate|          Yes|           3000|              0.0|        66|             360|             1|        Urban|          Y|\n",
            "|LP001006|  Male|    Yes|         0|Not Graduate|           No|           2583|           2358.0|       120|             360|             1|        Urban|          Y|\n",
            "|LP001008|  Male|     No|         0|    Graduate|           No|           6000|              0.0|       141|             360|             1|        Urban|          Y|\n",
            "|LP001011|  Male|    Yes|         2|    Graduate|          Yes|           5417|           4196.0|       267|             360|             1|        Urban|          Y|\n",
            "|LP001013|  Male|    Yes|         0|Not Graduate|           No|           2333|           1516.0|        95|             360|             1|        Urban|          Y|\n",
            "|LP001014|  Male|    Yes|        3+|    Graduate|           No|           3036|           2504.0|       158|             360|             0|    Semiurban|          N|\n",
            "|LP001018|  Male|    Yes|         2|    Graduate|           No|           4006|           1526.0|       168|             360|             1|        Urban|          Y|\n",
            "|LP001020|  Male|    Yes|         1|    Graduate|           No|          12841|          10968.0|       349|             360|             1|    Semiurban|          N|\n",
            "|LP001024|  Male|    Yes|         2|    Graduate|           No|           3200|            700.0|        70|             360|             1|        Urban|          Y|\n",
            "|LP001027|  Male|    Yes|         2|    Graduate|         null|           2500|           1840.0|       109|             360|             1|        Urban|          Y|\n",
            "|LP001028|  Male|    Yes|         2|    Graduate|           No|           3073|           8106.0|       200|             360|             1|        Urban|          Y|\n",
            "|LP001029|  Male|     No|         0|    Graduate|           No|           1853|           2840.0|       114|             360|             1|        Rural|          N|\n",
            "|LP001030|  Male|    Yes|         2|    Graduate|           No|           1299|           1086.0|        17|             120|             1|        Urban|          Y|\n",
            "|LP001032|  Male|     No|         0|    Graduate|           No|           4950|              0.0|       125|             360|             1|        Urban|          Y|\n",
            "|LP001034|  Male|     No|         1|Not Graduate|           No|           3596|              0.0|       100|             240|          null|        Urban|          Y|\n",
            "|LP001036|Female|     No|         0|    Graduate|           No|           3510|              0.0|        76|             360|             0|        Urban|          N|\n",
            "|LP001038|  Male|    Yes|         0|Not Graduate|           No|           4887|              0.0|       133|             360|             1|        Rural|          N|\n",
            "|LP001041|  Male|    Yes|         0|    Graduate|         null|           2600|           3500.0|       115|            null|             1|        Urban|          Y|\n",
            "+--------+------+-------+----------+------------+-------------+---------------+-----------------+----------+----------------+--------------+-------------+-----------+\n",
            "only showing top 20 rows\n",
            "\n"
          ]
        }
      ]
    },
    {
      "cell_type": "code",
      "source": [
        "# subset(drop the any null vaules in the education column)\n",
        "df4.na.drop(how='any',subset=['Education']).show()"
      ],
      "metadata": {
        "colab": {
          "base_uri": "https://localhost:8080/"
        },
        "id": "CoUjBgCjC2Nr",
        "outputId": "14749a39-f84e-48e2-be19-ab4f5b08556b"
      },
      "execution_count": 22,
      "outputs": [
        {
          "output_type": "stream",
          "name": "stdout",
          "text": [
            "+--------+------+-------+----------+------------+-------------+---------------+-----------------+----------+----------------+--------------+-------------+-----------+\n",
            "| Loan_ID|Gender|Married|Dependents|   Education|Self_Employed|ApplicantIncome|CoapplicantIncome|LoanAmount|Loan_Amount_Term|Credit_History|Property_Area|Loan_Status|\n",
            "+--------+------+-------+----------+------------+-------------+---------------+-----------------+----------+----------------+--------------+-------------+-----------+\n",
            "|LP001002|  Male|     No|         0|    Graduate|           No|           5849|              0.0|      null|             360|             1|        Urban|          Y|\n",
            "|LP001003|  Male|    Yes|         1|    Graduate|           No|           4583|           1508.0|       128|             360|             1|        Rural|          N|\n",
            "|LP001005|  Male|    Yes|         0|    Graduate|          Yes|           3000|              0.0|        66|             360|             1|        Urban|          Y|\n",
            "|LP001006|  Male|    Yes|         0|Not Graduate|           No|           2583|           2358.0|       120|             360|             1|        Urban|          Y|\n",
            "|LP001008|  Male|     No|         0|    Graduate|           No|           6000|              0.0|       141|             360|             1|        Urban|          Y|\n",
            "|LP001011|  Male|    Yes|         2|    Graduate|          Yes|           5417|           4196.0|       267|             360|             1|        Urban|          Y|\n",
            "|LP001013|  Male|    Yes|         0|Not Graduate|           No|           2333|           1516.0|        95|             360|             1|        Urban|          Y|\n",
            "|LP001014|  Male|    Yes|        3+|    Graduate|           No|           3036|           2504.0|       158|             360|             0|    Semiurban|          N|\n",
            "|LP001018|  Male|    Yes|         2|    Graduate|           No|           4006|           1526.0|       168|             360|             1|        Urban|          Y|\n",
            "|LP001020|  Male|    Yes|         1|    Graduate|           No|          12841|          10968.0|       349|             360|             1|    Semiurban|          N|\n",
            "|LP001024|  Male|    Yes|         2|    Graduate|           No|           3200|            700.0|        70|             360|             1|        Urban|          Y|\n",
            "|LP001027|  Male|    Yes|         2|    Graduate|         null|           2500|           1840.0|       109|             360|             1|        Urban|          Y|\n",
            "|LP001028|  Male|    Yes|         2|    Graduate|           No|           3073|           8106.0|       200|             360|             1|        Urban|          Y|\n",
            "|LP001029|  Male|     No|         0|    Graduate|           No|           1853|           2840.0|       114|             360|             1|        Rural|          N|\n",
            "|LP001030|  Male|    Yes|         2|    Graduate|           No|           1299|           1086.0|        17|             120|             1|        Urban|          Y|\n",
            "|LP001032|  Male|     No|         0|    Graduate|           No|           4950|              0.0|       125|             360|             1|        Urban|          Y|\n",
            "|LP001034|  Male|     No|         1|Not Graduate|           No|           3596|              0.0|       100|             240|          null|        Urban|          Y|\n",
            "|LP001036|Female|     No|         0|    Graduate|           No|           3510|              0.0|        76|             360|             0|        Urban|          N|\n",
            "|LP001038|  Male|    Yes|         0|Not Graduate|           No|           4887|              0.0|       133|             360|             1|        Rural|          N|\n",
            "|LP001041|  Male|    Yes|         0|    Graduate|         null|           2600|           3500.0|       115|            null|             1|        Urban|          Y|\n",
            "+--------+------+-------+----------+------------+-------------+---------------+-----------------+----------+----------------+--------------+-------------+-----------+\n",
            "only showing top 20 rows\n",
            "\n"
          ]
        }
      ]
    },
    {
      "cell_type": "code",
      "source": [
        "# fill the missing values using the string'Missing Values' to the column Education, Gender\n",
        "df4.na.fill('Missing Values',['Education','Gender']).show()"
      ],
      "metadata": {
        "colab": {
          "base_uri": "https://localhost:8080/"
        },
        "id": "3hgayj-PC2BG",
        "outputId": "315f2221-a961-4036-eddf-825e537a8983"
      },
      "execution_count": 23,
      "outputs": [
        {
          "output_type": "stream",
          "name": "stdout",
          "text": [
            "+--------+------+-------+----------+------------+-------------+---------------+-----------------+----------+----------------+--------------+-------------+-----------+\n",
            "| Loan_ID|Gender|Married|Dependents|   Education|Self_Employed|ApplicantIncome|CoapplicantIncome|LoanAmount|Loan_Amount_Term|Credit_History|Property_Area|Loan_Status|\n",
            "+--------+------+-------+----------+------------+-------------+---------------+-----------------+----------+----------------+--------------+-------------+-----------+\n",
            "|LP001002|  Male|     No|         0|    Graduate|           No|           5849|              0.0|      null|             360|             1|        Urban|          Y|\n",
            "|LP001003|  Male|    Yes|         1|    Graduate|           No|           4583|           1508.0|       128|             360|             1|        Rural|          N|\n",
            "|LP001005|  Male|    Yes|         0|    Graduate|          Yes|           3000|              0.0|        66|             360|             1|        Urban|          Y|\n",
            "|LP001006|  Male|    Yes|         0|Not Graduate|           No|           2583|           2358.0|       120|             360|             1|        Urban|          Y|\n",
            "|LP001008|  Male|     No|         0|    Graduate|           No|           6000|              0.0|       141|             360|             1|        Urban|          Y|\n",
            "|LP001011|  Male|    Yes|         2|    Graduate|          Yes|           5417|           4196.0|       267|             360|             1|        Urban|          Y|\n",
            "|LP001013|  Male|    Yes|         0|Not Graduate|           No|           2333|           1516.0|        95|             360|             1|        Urban|          Y|\n",
            "|LP001014|  Male|    Yes|        3+|    Graduate|           No|           3036|           2504.0|       158|             360|             0|    Semiurban|          N|\n",
            "|LP001018|  Male|    Yes|         2|    Graduate|           No|           4006|           1526.0|       168|             360|             1|        Urban|          Y|\n",
            "|LP001020|  Male|    Yes|         1|    Graduate|           No|          12841|          10968.0|       349|             360|             1|    Semiurban|          N|\n",
            "|LP001024|  Male|    Yes|         2|    Graduate|           No|           3200|            700.0|        70|             360|             1|        Urban|          Y|\n",
            "|LP001027|  Male|    Yes|         2|    Graduate|         null|           2500|           1840.0|       109|             360|             1|        Urban|          Y|\n",
            "|LP001028|  Male|    Yes|         2|    Graduate|           No|           3073|           8106.0|       200|             360|             1|        Urban|          Y|\n",
            "|LP001029|  Male|     No|         0|    Graduate|           No|           1853|           2840.0|       114|             360|             1|        Rural|          N|\n",
            "|LP001030|  Male|    Yes|         2|    Graduate|           No|           1299|           1086.0|        17|             120|             1|        Urban|          Y|\n",
            "|LP001032|  Male|     No|         0|    Graduate|           No|           4950|              0.0|       125|             360|             1|        Urban|          Y|\n",
            "|LP001034|  Male|     No|         1|Not Graduate|           No|           3596|              0.0|       100|             240|          null|        Urban|          Y|\n",
            "|LP001036|Female|     No|         0|    Graduate|           No|           3510|              0.0|        76|             360|             0|        Urban|          N|\n",
            "|LP001038|  Male|    Yes|         0|Not Graduate|           No|           4887|              0.0|       133|             360|             1|        Rural|          N|\n",
            "|LP001041|  Male|    Yes|         0|    Graduate|         null|           2600|           3500.0|       115|            null|             1|        Urban|          Y|\n",
            "+--------+------+-------+----------+------------+-------------+---------------+-----------------+----------+----------------+--------------+-------------+-----------+\n",
            "only showing top 20 rows\n",
            "\n"
          ]
        }
      ]
    },
    {
      "cell_type": "code",
      "source": [
        "# fill missing values using mean\n",
        "from pyspark.ml.feature import Imputer\n",
        "imputer=Imputer(\n",
        "    inputCols=['LoanAmount','Loan_Amount_Term'],\n",
        "    outputCols=[\"{}_imputed\".format(c) for c in ['LoanAmount','Loan_Amount_Term']]\n",
        ").setStrategy(\"mean\")\n",
        "# mean can be replaced by median or mode"
      ],
      "metadata": {
        "id": "5hPZp7cxC14J"
      },
      "execution_count": 24,
      "outputs": []
    },
    {
      "cell_type": "code",
      "source": [
        "# add imputation tools to df4\n",
        "imputer.fit(df4).transform(df4).show()"
      ],
      "metadata": {
        "colab": {
          "base_uri": "https://localhost:8080/"
        },
        "id": "5XUvaRKdC1u2",
        "outputId": "4e1a9b27-e7dd-43d6-8ceb-72b78f6e87cc"
      },
      "execution_count": 25,
      "outputs": [
        {
          "output_type": "stream",
          "name": "stdout",
          "text": [
            "+--------+------+-------+----------+------------+-------------+---------------+-----------------+----------+----------------+--------------+-------------+-----------+------------------+------------------------+\n",
            "| Loan_ID|Gender|Married|Dependents|   Education|Self_Employed|ApplicantIncome|CoapplicantIncome|LoanAmount|Loan_Amount_Term|Credit_History|Property_Area|Loan_Status|LoanAmount_imputed|Loan_Amount_Term_imputed|\n",
            "+--------+------+-------+----------+------------+-------------+---------------+-----------------+----------+----------------+--------------+-------------+-----------+------------------+------------------------+\n",
            "|LP001002|  Male|     No|         0|    Graduate|           No|           5849|              0.0|      null|             360|             1|        Urban|          Y|               146|                     360|\n",
            "|LP001003|  Male|    Yes|         1|    Graduate|           No|           4583|           1508.0|       128|             360|             1|        Rural|          N|               128|                     360|\n",
            "|LP001005|  Male|    Yes|         0|    Graduate|          Yes|           3000|              0.0|        66|             360|             1|        Urban|          Y|                66|                     360|\n",
            "|LP001006|  Male|    Yes|         0|Not Graduate|           No|           2583|           2358.0|       120|             360|             1|        Urban|          Y|               120|                     360|\n",
            "|LP001008|  Male|     No|         0|    Graduate|           No|           6000|              0.0|       141|             360|             1|        Urban|          Y|               141|                     360|\n",
            "|LP001011|  Male|    Yes|         2|    Graduate|          Yes|           5417|           4196.0|       267|             360|             1|        Urban|          Y|               267|                     360|\n",
            "|LP001013|  Male|    Yes|         0|Not Graduate|           No|           2333|           1516.0|        95|             360|             1|        Urban|          Y|                95|                     360|\n",
            "|LP001014|  Male|    Yes|        3+|    Graduate|           No|           3036|           2504.0|       158|             360|             0|    Semiurban|          N|               158|                     360|\n",
            "|LP001018|  Male|    Yes|         2|    Graduate|           No|           4006|           1526.0|       168|             360|             1|        Urban|          Y|               168|                     360|\n",
            "|LP001020|  Male|    Yes|         1|    Graduate|           No|          12841|          10968.0|       349|             360|             1|    Semiurban|          N|               349|                     360|\n",
            "|LP001024|  Male|    Yes|         2|    Graduate|           No|           3200|            700.0|        70|             360|             1|        Urban|          Y|                70|                     360|\n",
            "|LP001027|  Male|    Yes|         2|    Graduate|         null|           2500|           1840.0|       109|             360|             1|        Urban|          Y|               109|                     360|\n",
            "|LP001028|  Male|    Yes|         2|    Graduate|           No|           3073|           8106.0|       200|             360|             1|        Urban|          Y|               200|                     360|\n",
            "|LP001029|  Male|     No|         0|    Graduate|           No|           1853|           2840.0|       114|             360|             1|        Rural|          N|               114|                     360|\n",
            "|LP001030|  Male|    Yes|         2|    Graduate|           No|           1299|           1086.0|        17|             120|             1|        Urban|          Y|                17|                     120|\n",
            "|LP001032|  Male|     No|         0|    Graduate|           No|           4950|              0.0|       125|             360|             1|        Urban|          Y|               125|                     360|\n",
            "|LP001034|  Male|     No|         1|Not Graduate|           No|           3596|              0.0|       100|             240|          null|        Urban|          Y|               100|                     240|\n",
            "|LP001036|Female|     No|         0|    Graduate|           No|           3510|              0.0|        76|             360|             0|        Urban|          N|                76|                     360|\n",
            "|LP001038|  Male|    Yes|         0|Not Graduate|           No|           4887|              0.0|       133|             360|             1|        Rural|          N|               133|                     360|\n",
            "|LP001041|  Male|    Yes|         0|    Graduate|         null|           2600|           3500.0|       115|            null|             1|        Urban|          Y|               115|                     342|\n",
            "+--------+------+-------+----------+------------+-------------+---------------+-----------------+----------+----------------+--------------+-------------+-----------+------------------+------------------------+\n",
            "only showing top 20 rows\n",
            "\n"
          ]
        }
      ]
    },
    {
      "cell_type": "markdown",
      "source": [
        "# Filter Operation"
      ],
      "metadata": {
        "id": "-uaGawbbFU0h"
      }
    },
    {
      "cell_type": "code",
      "source": [
        "#Filter Operations, loanamount>300\n",
        "df4.filter(\"LoanAmount>300\").show()"
      ],
      "metadata": {
        "colab": {
          "base_uri": "https://localhost:8080/"
        },
        "id": "EZejTYirC1mP",
        "outputId": "6f45c132-e4f7-4de8-d86c-d96bd3d2f152"
      },
      "execution_count": 26,
      "outputs": [
        {
          "output_type": "stream",
          "name": "stdout",
          "text": [
            "+--------+------+-------+----------+---------+-------------+---------------+-----------------+----------+----------------+--------------+-------------+-----------+\n",
            "| Loan_ID|Gender|Married|Dependents|Education|Self_Employed|ApplicantIncome|CoapplicantIncome|LoanAmount|Loan_Amount_Term|Credit_History|Property_Area|Loan_Status|\n",
            "+--------+------+-------+----------+---------+-------------+---------------+-----------------+----------+----------------+--------------+-------------+-----------+\n",
            "|LP001020|  Male|    Yes|         1| Graduate|           No|          12841|          10968.0|       349|             360|             1|    Semiurban|          N|\n",
            "|LP001046|  Male|    Yes|         1| Graduate|           No|           5955|           5625.0|       315|             360|             1|        Urban|          Y|\n",
            "|LP001100|  Male|     No|        3+| Graduate|           No|          12500|           3000.0|       320|             360|             1|        Rural|          N|\n",
            "|LP001233|  Male|    Yes|         1| Graduate|           No|          10750|              0.0|       312|             360|             1|        Urban|          Y|\n",
            "|LP001448|  null|    Yes|        3+| Graduate|           No|          23803|              0.0|       370|             360|             1|        Rural|          Y|\n",
            "|LP001469|  Male|     No|         0| Graduate|          Yes|          20166|              0.0|       650|             480|          null|        Urban|          Y|\n",
            "|LP001536|  Male|    Yes|        3+| Graduate|           No|          39999|              0.0|       600|             180|             0|    Semiurban|          Y|\n",
            "|LP001585|  null|    Yes|        3+| Graduate|           No|          51763|              0.0|       700|             300|             1|        Urban|          Y|\n",
            "|LP001610|  Male|    Yes|        3+| Graduate|           No|           5516|          11300.0|       495|             360|             0|    Semiurban|          N|\n",
            "|LP001859|  Male|    Yes|         0| Graduate|           No|          14683|           2100.0|       304|             360|             1|        Rural|          N|\n",
            "|LP001865|  Male|    Yes|         1| Graduate|           No|           6083|           4250.0|       330|             360|          null|        Urban|          Y|\n",
            "|LP001907|  Male|    Yes|         0| Graduate|           No|          14583|              0.0|       436|             360|             1|    Semiurban|          Y|\n",
            "|LP001996|  Male|     No|         0| Graduate|           No|          20233|              0.0|       480|             360|             1|        Rural|          N|\n",
            "|LP002067|  Male|    Yes|         1| Graduate|          Yes|           8666|           4983.0|       376|             360|             0|        Rural|          N|\n",
            "|LP002101|  Male|    Yes|         0| Graduate|         null|          63337|              0.0|       490|             180|             1|        Urban|          Y|\n",
            "|LP002140|  Male|     No|         0| Graduate|           No|           8750|           4167.0|       308|             360|             1|        Rural|          N|\n",
            "|LP002191|  Male|    Yes|         0| Graduate|           No|          19730|           5266.0|       570|             360|             1|        Rural|          N|\n",
            "|LP002201|  Male|    Yes|         2| Graduate|          Yes|           9323|           7873.0|       380|             300|             1|        Rural|          Y|\n",
            "|LP002317|  Male|    Yes|        3+| Graduate|           No|          81000|              0.0|       360|             360|             0|        Rural|          N|\n",
            "|LP002386|  Male|     No|         0| Graduate|         null|          12876|              0.0|       405|             360|             1|    Semiurban|          Y|\n",
            "+--------+------+-------+----------+---------+-------------+---------------+-----------------+----------+----------------+--------------+-------------+-----------+\n",
            "only showing top 20 rows\n",
            "\n"
          ]
        }
      ]
    },
    {
      "cell_type": "code",
      "source": [
        "# filter 1 column and only show 2 columns\n",
        "df4.filter(\"LoanAmount>300\").select([\"Loan_ID\",'Married']).show()"
      ],
      "metadata": {
        "colab": {
          "base_uri": "https://localhost:8080/"
        },
        "id": "2L-8zo23C1dk",
        "outputId": "73aadab5-e021-4ec9-a2bd-6fb60151c6b6"
      },
      "execution_count": 27,
      "outputs": [
        {
          "output_type": "stream",
          "name": "stdout",
          "text": [
            "+--------+-------+\n",
            "| Loan_ID|Married|\n",
            "+--------+-------+\n",
            "|LP001020|    Yes|\n",
            "|LP001046|    Yes|\n",
            "|LP001100|     No|\n",
            "|LP001233|    Yes|\n",
            "|LP001448|    Yes|\n",
            "|LP001469|     No|\n",
            "|LP001536|    Yes|\n",
            "|LP001585|    Yes|\n",
            "|LP001610|    Yes|\n",
            "|LP001859|    Yes|\n",
            "|LP001865|    Yes|\n",
            "|LP001907|    Yes|\n",
            "|LP001996|     No|\n",
            "|LP002067|    Yes|\n",
            "|LP002101|    Yes|\n",
            "|LP002140|     No|\n",
            "|LP002191|    Yes|\n",
            "|LP002201|    Yes|\n",
            "|LP002317|    Yes|\n",
            "|LP002386|     No|\n",
            "+--------+-------+\n",
            "only showing top 20 rows\n",
            "\n"
          ]
        }
      ]
    },
    {
      "cell_type": "code",
      "source": [
        "#filter 2 columns use and\n",
        "df4.filter((df4['LoanAmount']>300) &\n",
        "          (df4['ApplicantIncome']>1500)).show()"
      ],
      "metadata": {
        "colab": {
          "base_uri": "https://localhost:8080/"
        },
        "id": "fi5lNQfVC1VW",
        "outputId": "9b1e3ad0-66e6-4e8d-f97c-d65a0a1f5f1e"
      },
      "execution_count": 28,
      "outputs": [
        {
          "output_type": "stream",
          "name": "stdout",
          "text": [
            "+--------+------+-------+----------+---------+-------------+---------------+-----------------+----------+----------------+--------------+-------------+-----------+\n",
            "| Loan_ID|Gender|Married|Dependents|Education|Self_Employed|ApplicantIncome|CoapplicantIncome|LoanAmount|Loan_Amount_Term|Credit_History|Property_Area|Loan_Status|\n",
            "+--------+------+-------+----------+---------+-------------+---------------+-----------------+----------+----------------+--------------+-------------+-----------+\n",
            "|LP001020|  Male|    Yes|         1| Graduate|           No|          12841|          10968.0|       349|             360|             1|    Semiurban|          N|\n",
            "|LP001046|  Male|    Yes|         1| Graduate|           No|           5955|           5625.0|       315|             360|             1|        Urban|          Y|\n",
            "|LP001100|  Male|     No|        3+| Graduate|           No|          12500|           3000.0|       320|             360|             1|        Rural|          N|\n",
            "|LP001233|  Male|    Yes|         1| Graduate|           No|          10750|              0.0|       312|             360|             1|        Urban|          Y|\n",
            "|LP001448|  null|    Yes|        3+| Graduate|           No|          23803|              0.0|       370|             360|             1|        Rural|          Y|\n",
            "|LP001469|  Male|     No|         0| Graduate|          Yes|          20166|              0.0|       650|             480|          null|        Urban|          Y|\n",
            "|LP001536|  Male|    Yes|        3+| Graduate|           No|          39999|              0.0|       600|             180|             0|    Semiurban|          Y|\n",
            "|LP001585|  null|    Yes|        3+| Graduate|           No|          51763|              0.0|       700|             300|             1|        Urban|          Y|\n",
            "|LP001610|  Male|    Yes|        3+| Graduate|           No|           5516|          11300.0|       495|             360|             0|    Semiurban|          N|\n",
            "|LP001859|  Male|    Yes|         0| Graduate|           No|          14683|           2100.0|       304|             360|             1|        Rural|          N|\n",
            "|LP001865|  Male|    Yes|         1| Graduate|           No|           6083|           4250.0|       330|             360|          null|        Urban|          Y|\n",
            "|LP001907|  Male|    Yes|         0| Graduate|           No|          14583|              0.0|       436|             360|             1|    Semiurban|          Y|\n",
            "|LP001996|  Male|     No|         0| Graduate|           No|          20233|              0.0|       480|             360|             1|        Rural|          N|\n",
            "|LP002067|  Male|    Yes|         1| Graduate|          Yes|           8666|           4983.0|       376|             360|             0|        Rural|          N|\n",
            "|LP002101|  Male|    Yes|         0| Graduate|         null|          63337|              0.0|       490|             180|             1|        Urban|          Y|\n",
            "|LP002140|  Male|     No|         0| Graduate|           No|           8750|           4167.0|       308|             360|             1|        Rural|          N|\n",
            "|LP002191|  Male|    Yes|         0| Graduate|           No|          19730|           5266.0|       570|             360|             1|        Rural|          N|\n",
            "|LP002201|  Male|    Yes|         2| Graduate|          Yes|           9323|           7873.0|       380|             300|             1|        Rural|          Y|\n",
            "|LP002317|  Male|    Yes|        3+| Graduate|           No|          81000|              0.0|       360|             360|             0|        Rural|          N|\n",
            "|LP002386|  Male|     No|         0| Graduate|         null|          12876|              0.0|       405|             360|             1|    Semiurban|          Y|\n",
            "+--------+------+-------+----------+---------+-------------+---------------+-----------------+----------+----------------+--------------+-------------+-----------+\n",
            "only showing top 20 rows\n",
            "\n"
          ]
        }
      ]
    },
    {
      "cell_type": "code",
      "source": [
        "#filter 2 columns use or\n",
        "df4.filter((df4['LoanAmount']>300) |\n",
        "          (df4['ApplicantIncome']>1500)).show()"
      ],
      "metadata": {
        "colab": {
          "base_uri": "https://localhost:8080/"
        },
        "id": "SIEqQeefC1Mw",
        "outputId": "63371227-e6d1-4f38-8ee7-c1c65167f2c7"
      },
      "execution_count": 29,
      "outputs": [
        {
          "output_type": "stream",
          "name": "stdout",
          "text": [
            "+--------+------+-------+----------+------------+-------------+---------------+-----------------+----------+----------------+--------------+-------------+-----------+\n",
            "| Loan_ID|Gender|Married|Dependents|   Education|Self_Employed|ApplicantIncome|CoapplicantIncome|LoanAmount|Loan_Amount_Term|Credit_History|Property_Area|Loan_Status|\n",
            "+--------+------+-------+----------+------------+-------------+---------------+-----------------+----------+----------------+--------------+-------------+-----------+\n",
            "|LP001002|  Male|     No|         0|    Graduate|           No|           5849|              0.0|      null|             360|             1|        Urban|          Y|\n",
            "|LP001003|  Male|    Yes|         1|    Graduate|           No|           4583|           1508.0|       128|             360|             1|        Rural|          N|\n",
            "|LP001005|  Male|    Yes|         0|    Graduate|          Yes|           3000|              0.0|        66|             360|             1|        Urban|          Y|\n",
            "|LP001006|  Male|    Yes|         0|Not Graduate|           No|           2583|           2358.0|       120|             360|             1|        Urban|          Y|\n",
            "|LP001008|  Male|     No|         0|    Graduate|           No|           6000|              0.0|       141|             360|             1|        Urban|          Y|\n",
            "|LP001011|  Male|    Yes|         2|    Graduate|          Yes|           5417|           4196.0|       267|             360|             1|        Urban|          Y|\n",
            "|LP001013|  Male|    Yes|         0|Not Graduate|           No|           2333|           1516.0|        95|             360|             1|        Urban|          Y|\n",
            "|LP001014|  Male|    Yes|        3+|    Graduate|           No|           3036|           2504.0|       158|             360|             0|    Semiurban|          N|\n",
            "|LP001018|  Male|    Yes|         2|    Graduate|           No|           4006|           1526.0|       168|             360|             1|        Urban|          Y|\n",
            "|LP001020|  Male|    Yes|         1|    Graduate|           No|          12841|          10968.0|       349|             360|             1|    Semiurban|          N|\n",
            "|LP001024|  Male|    Yes|         2|    Graduate|           No|           3200|            700.0|        70|             360|             1|        Urban|          Y|\n",
            "|LP001027|  Male|    Yes|         2|    Graduate|         null|           2500|           1840.0|       109|             360|             1|        Urban|          Y|\n",
            "|LP001028|  Male|    Yes|         2|    Graduate|           No|           3073|           8106.0|       200|             360|             1|        Urban|          Y|\n",
            "|LP001029|  Male|     No|         0|    Graduate|           No|           1853|           2840.0|       114|             360|             1|        Rural|          N|\n",
            "|LP001032|  Male|     No|         0|    Graduate|           No|           4950|              0.0|       125|             360|             1|        Urban|          Y|\n",
            "|LP001034|  Male|     No|         1|Not Graduate|           No|           3596|              0.0|       100|             240|          null|        Urban|          Y|\n",
            "|LP001036|Female|     No|         0|    Graduate|           No|           3510|              0.0|        76|             360|             0|        Urban|          N|\n",
            "|LP001038|  Male|    Yes|         0|Not Graduate|           No|           4887|              0.0|       133|             360|             1|        Rural|          N|\n",
            "|LP001041|  Male|    Yes|         0|    Graduate|         null|           2600|           3500.0|       115|            null|             1|        Urban|          Y|\n",
            "|LP001043|  Male|    Yes|         0|Not Graduate|           No|           7660|              0.0|       104|             360|             0|        Urban|          N|\n",
            "+--------+------+-------+----------+------------+-------------+---------------+-----------------+----------+----------------+--------------+-------------+-----------+\n",
            "only showing top 20 rows\n",
            "\n"
          ]
        }
      ]
    },
    {
      "cell_type": "code",
      "source": [
        "#Filter Operations, loanamount<=300 by adding ~(inverse operation)\n",
        "df4.filter(~(df4[\"LoanAmount\"]>300)).show()"
      ],
      "metadata": {
        "colab": {
          "base_uri": "https://localhost:8080/"
        },
        "id": "qclTGUcCHT2A",
        "outputId": "d17b5670-fef4-41bb-b40a-08fcd9b12646"
      },
      "execution_count": 30,
      "outputs": [
        {
          "output_type": "stream",
          "name": "stdout",
          "text": [
            "+--------+------+-------+----------+------------+-------------+---------------+-----------------+----------+----------------+--------------+-------------+-----------+\n",
            "| Loan_ID|Gender|Married|Dependents|   Education|Self_Employed|ApplicantIncome|CoapplicantIncome|LoanAmount|Loan_Amount_Term|Credit_History|Property_Area|Loan_Status|\n",
            "+--------+------+-------+----------+------------+-------------+---------------+-----------------+----------+----------------+--------------+-------------+-----------+\n",
            "|LP001003|  Male|    Yes|         1|    Graduate|           No|           4583|           1508.0|       128|             360|             1|        Rural|          N|\n",
            "|LP001005|  Male|    Yes|         0|    Graduate|          Yes|           3000|              0.0|        66|             360|             1|        Urban|          Y|\n",
            "|LP001006|  Male|    Yes|         0|Not Graduate|           No|           2583|           2358.0|       120|             360|             1|        Urban|          Y|\n",
            "|LP001008|  Male|     No|         0|    Graduate|           No|           6000|              0.0|       141|             360|             1|        Urban|          Y|\n",
            "|LP001011|  Male|    Yes|         2|    Graduate|          Yes|           5417|           4196.0|       267|             360|             1|        Urban|          Y|\n",
            "|LP001013|  Male|    Yes|         0|Not Graduate|           No|           2333|           1516.0|        95|             360|             1|        Urban|          Y|\n",
            "|LP001014|  Male|    Yes|        3+|    Graduate|           No|           3036|           2504.0|       158|             360|             0|    Semiurban|          N|\n",
            "|LP001018|  Male|    Yes|         2|    Graduate|           No|           4006|           1526.0|       168|             360|             1|        Urban|          Y|\n",
            "|LP001024|  Male|    Yes|         2|    Graduate|           No|           3200|            700.0|        70|             360|             1|        Urban|          Y|\n",
            "|LP001027|  Male|    Yes|         2|    Graduate|         null|           2500|           1840.0|       109|             360|             1|        Urban|          Y|\n",
            "|LP001028|  Male|    Yes|         2|    Graduate|           No|           3073|           8106.0|       200|             360|             1|        Urban|          Y|\n",
            "|LP001029|  Male|     No|         0|    Graduate|           No|           1853|           2840.0|       114|             360|             1|        Rural|          N|\n",
            "|LP001030|  Male|    Yes|         2|    Graduate|           No|           1299|           1086.0|        17|             120|             1|        Urban|          Y|\n",
            "|LP001032|  Male|     No|         0|    Graduate|           No|           4950|              0.0|       125|             360|             1|        Urban|          Y|\n",
            "|LP001034|  Male|     No|         1|Not Graduate|           No|           3596|              0.0|       100|             240|          null|        Urban|          Y|\n",
            "|LP001036|Female|     No|         0|    Graduate|           No|           3510|              0.0|        76|             360|             0|        Urban|          N|\n",
            "|LP001038|  Male|    Yes|         0|Not Graduate|           No|           4887|              0.0|       133|             360|             1|        Rural|          N|\n",
            "|LP001041|  Male|    Yes|         0|    Graduate|         null|           2600|           3500.0|       115|            null|             1|        Urban|          Y|\n",
            "|LP001043|  Male|    Yes|         0|Not Graduate|           No|           7660|              0.0|       104|             360|             0|        Urban|          N|\n",
            "|LP001047|  Male|    Yes|         0|Not Graduate|           No|           2600|           1911.0|       116|             360|             0|    Semiurban|          N|\n",
            "+--------+------+-------+----------+------------+-------------+---------------+-----------------+----------+----------------+--------------+-------------+-----------+\n",
            "only showing top 20 rows\n",
            "\n"
          ]
        }
      ]
    },
    {
      "cell_type": "markdown",
      "source": [
        "# Group By"
      ],
      "metadata": {
        "id": "32POTiecHPXJ"
      }
    },
    {
      "cell_type": "code",
      "source": [
        "# Group by Education and check the average\n",
        "df4.groupBy('Education').avg().show()"
      ],
      "metadata": {
        "colab": {
          "base_uri": "https://localhost:8080/"
        },
        "id": "7mDHFEYaC1FC",
        "outputId": "d1bf1dbc-4965-4b99-f46a-947411f566a3"
      },
      "execution_count": 31,
      "outputs": [
        {
          "output_type": "stream",
          "name": "stdout",
          "text": [
            "+------------+--------------------+----------------------+------------------+---------------------+-------------------+\n",
            "|   Education|avg(ApplicantIncome)|avg(CoapplicantIncome)|   avg(LoanAmount)|avg(Loan_Amount_Term)|avg(Credit_History)|\n",
            "+------------+--------------------+----------------------+------------------+---------------------+-------------------+\n",
            "|Not Graduate|   3777.283582089552|     1276.544776119403|118.40944881889764|            332.15625| 0.7851239669421488|\n",
            "|    Graduate|   5857.433333333333|    1717.4748333096666|154.06021505376344|    344.6694915254237| 0.8577878103837472|\n",
            "+------------+--------------------+----------------------+------------------+---------------------+-------------------+\n",
            "\n"
          ]
        }
      ]
    },
    {
      "cell_type": "code",
      "source": [
        "# group by gender and show max\n",
        "df4.groupBy('Gender').max().show()"
      ],
      "metadata": {
        "colab": {
          "base_uri": "https://localhost:8080/"
        },
        "id": "MQk-wO4PC08P",
        "outputId": "04d22054-7d56-4281-bc7a-07bea211c652"
      },
      "execution_count": 32,
      "outputs": [
        {
          "output_type": "stream",
          "name": "stdout",
          "text": [
            "+------+--------------------+----------------------+---------------+---------------------+-------------------+\n",
            "|Gender|max(ApplicantIncome)|max(CoapplicantIncome)|max(LoanAmount)|max(Loan_Amount_Term)|max(Credit_History)|\n",
            "+------+--------------------+----------------------+---------------+---------------------+-------------------+\n",
            "|  null|               51763|                5296.0|            700|                  360|                  1|\n",
            "|Female|               19484|               41667.0|            600|                  480|                  1|\n",
            "|  Male|               81000|               33837.0|            650|                  480|                  1|\n",
            "+------+--------------------+----------------------+---------------+---------------------+-------------------+\n",
            "\n"
          ]
        }
      ]
    },
    {
      "cell_type": "code",
      "source": [
        "# group by gender and show mean\n",
        "df4.groupBy('Gender').mean().show()"
      ],
      "metadata": {
        "colab": {
          "base_uri": "https://localhost:8080/"
        },
        "id": "tu-9HBA6C00V",
        "outputId": "146c5750-9d31-4b82-f7db-de89e427b3c7"
      },
      "execution_count": 33,
      "outputs": [
        {
          "output_type": "stream",
          "name": "stdout",
          "text": [
            "+------+--------------------+----------------------+------------------+---------------------+-------------------+\n",
            "|Gender|avg(ApplicantIncome)|avg(CoapplicantIncome)|   avg(LoanAmount)|avg(Loan_Amount_Term)|avg(Credit_History)|\n",
            "+------+--------------------+----------------------+------------------+---------------------+-------------------+\n",
            "|  null|  10333.538461538461|    1465.6923076923076|208.53846153846155|   341.53846153846155|               0.75|\n",
            "|Female|   4643.473214285715|    1108.0089285714287|126.69724770642202|   352.29357798165137| 0.8316831683168316|\n",
            "|  Male|   5446.460122699386|    1742.9323517150103| 149.2659574468085|    339.6652719665272| 0.8470066518847007|\n",
            "+------+--------------------+----------------------+------------------+---------------------+-------------------+\n",
            "\n"
          ]
        }
      ]
    },
    {
      "cell_type": "code",
      "source": [
        "# group by gender and show count\n",
        "df4.groupBy('Gender').count().show()"
      ],
      "metadata": {
        "colab": {
          "base_uri": "https://localhost:8080/"
        },
        "id": "EVt7XKBiC0r9",
        "outputId": "176a9f4d-83c6-4870-bfda-e653c70df04c"
      },
      "execution_count": 34,
      "outputs": [
        {
          "output_type": "stream",
          "name": "stdout",
          "text": [
            "+------+-----+\n",
            "|Gender|count|\n",
            "+------+-----+\n",
            "|  null|   13|\n",
            "|Female|  112|\n",
            "|  Male|  489|\n",
            "+------+-----+\n",
            "\n"
          ]
        }
      ]
    },
    {
      "cell_type": "markdown",
      "source": [
        "# Aggreation Function"
      ],
      "metadata": {
        "id": "RIVuMWM5J9vn"
      }
    },
    {
      "cell_type": "code",
      "source": [
        "#\n",
        "df4.agg({'LoanAMount':'avg'}).show()"
      ],
      "metadata": {
        "colab": {
          "base_uri": "https://localhost:8080/"
        },
        "id": "yUY0X_DmC0j_",
        "outputId": "e87a50be-f475-43bd-cb66-7bb7702f2f31"
      },
      "execution_count": 35,
      "outputs": [
        {
          "output_type": "stream",
          "name": "stdout",
          "text": [
            "+------------------+\n",
            "|   avg(LoanAMount)|\n",
            "+------------------+\n",
            "|146.41216216216216|\n",
            "+------------------+\n",
            "\n"
          ]
        }
      ]
    },
    {
      "cell_type": "markdown",
      "source": [
        "# Pyspark ML"
      ],
      "metadata": {
        "id": "ybwcW26zKOp2"
      }
    },
    {
      "cell_type": "code",
      "source": [
        "# Read the dataset\n",
        "training=spark.read.csv('/content/drive/My Drive/Materials/train_u6lujuX_CVtuZ9i.csv',header=True, inferSchema=True)\n",
        "training.show"
      ],
      "metadata": {
        "colab": {
          "base_uri": "https://localhost:8080/"
        },
        "id": "sbxk9vDAC0a7",
        "outputId": "a9a9426a-198c-41c1-eaac-a625502cd34f"
      },
      "execution_count": 36,
      "outputs": [
        {
          "output_type": "execute_result",
          "data": {
            "text/plain": [
              "<bound method DataFrame.show of DataFrame[Loan_ID: string, Gender: string, Married: string, Dependents: string, Education: string, Self_Employed: string, ApplicantIncome: int, CoapplicantIncome: double, LoanAmount: int, Loan_Amount_Term: int, Credit_History: int, Property_Area: string, Loan_Status: string]>"
            ]
          },
          "metadata": {},
          "execution_count": 36
        }
      ]
    },
    {
      "cell_type": "code",
      "source": [
        "# check the Schema\n",
        "training.printSchema()"
      ],
      "metadata": {
        "colab": {
          "base_uri": "https://localhost:8080/"
        },
        "id": "nsy9iPQVC0Sc",
        "outputId": "df7ee5d9-c31a-445c-b22e-76906bbd1ab7"
      },
      "execution_count": 37,
      "outputs": [
        {
          "output_type": "stream",
          "name": "stdout",
          "text": [
            "root\n",
            " |-- Loan_ID: string (nullable = true)\n",
            " |-- Gender: string (nullable = true)\n",
            " |-- Married: string (nullable = true)\n",
            " |-- Dependents: string (nullable = true)\n",
            " |-- Education: string (nullable = true)\n",
            " |-- Self_Employed: string (nullable = true)\n",
            " |-- ApplicantIncome: integer (nullable = true)\n",
            " |-- CoapplicantIncome: double (nullable = true)\n",
            " |-- LoanAmount: integer (nullable = true)\n",
            " |-- Loan_Amount_Term: integer (nullable = true)\n",
            " |-- Credit_History: integer (nullable = true)\n",
            " |-- Property_Area: string (nullable = true)\n",
            " |-- Loan_Status: string (nullable = true)\n",
            "\n"
          ]
        }
      ]
    },
    {
      "cell_type": "code",
      "source": [
        "# check columns\n",
        "training.columns"
      ],
      "metadata": {
        "colab": {
          "base_uri": "https://localhost:8080/"
        },
        "id": "UQcCTS5PC0KJ",
        "outputId": "5446c371-beae-40cb-f9e9-c935eae95e19"
      },
      "execution_count": 38,
      "outputs": [
        {
          "output_type": "execute_result",
          "data": {
            "text/plain": [
              "['Loan_ID',\n",
              " 'Gender',\n",
              " 'Married',\n",
              " 'Dependents',\n",
              " 'Education',\n",
              " 'Self_Employed',\n",
              " 'ApplicantIncome',\n",
              " 'CoapplicantIncome',\n",
              " 'LoanAmount',\n",
              " 'Loan_Amount_Term',\n",
              " 'Credit_History',\n",
              " 'Property_Area',\n",
              " 'Loan_Status']"
            ]
          },
          "metadata": {},
          "execution_count": 38
        }
      ]
    },
    {
      "cell_type": "code",
      "source": [
        "#\n",
        "# drop nulls\n",
        "training=training.na.drop()"
      ],
      "metadata": {
        "id": "mgyrrGa9OONr"
      },
      "execution_count": 39,
      "outputs": []
    },
    {
      "cell_type": "code",
      "source": [
        "# in Pyspark we group independent features\n",
        "# for example we want to group applicant_income and coapplicant_income\n",
        "from pyspark.ml.feature import VectorAssembler\n",
        "featureassembler=VectorAssembler(inputCols=['ApplicantIncome','CoapplicantIncome'],outputCol='Independent Features')"
      ],
      "metadata": {
        "id": "1kdRQPotCz9v"
      },
      "execution_count": 40,
      "outputs": []
    },
    {
      "cell_type": "code",
      "source": [
        "output=featureassembler.transform(training)"
      ],
      "metadata": {
        "id": "ebSF5WQHCz1T"
      },
      "execution_count": 41,
      "outputs": []
    },
    {
      "cell_type": "code",
      "source": [
        "output.show()"
      ],
      "metadata": {
        "colab": {
          "base_uri": "https://localhost:8080/"
        },
        "id": "8hCYnnW3Czso",
        "outputId": "77814708-2ab7-4f9e-8a18-138eff09106d"
      },
      "execution_count": 42,
      "outputs": [
        {
          "output_type": "stream",
          "name": "stdout",
          "text": [
            "+--------+------+-------+----------+------------+-------------+---------------+-----------------+----------+----------------+--------------+-------------+-----------+--------------------+\n",
            "| Loan_ID|Gender|Married|Dependents|   Education|Self_Employed|ApplicantIncome|CoapplicantIncome|LoanAmount|Loan_Amount_Term|Credit_History|Property_Area|Loan_Status|Independent Features|\n",
            "+--------+------+-------+----------+------------+-------------+---------------+-----------------+----------+----------------+--------------+-------------+-----------+--------------------+\n",
            "|LP001003|  Male|    Yes|         1|    Graduate|           No|           4583|           1508.0|       128|             360|             1|        Rural|          N|     [4583.0,1508.0]|\n",
            "|LP001005|  Male|    Yes|         0|    Graduate|          Yes|           3000|              0.0|        66|             360|             1|        Urban|          Y|        [3000.0,0.0]|\n",
            "|LP001006|  Male|    Yes|         0|Not Graduate|           No|           2583|           2358.0|       120|             360|             1|        Urban|          Y|     [2583.0,2358.0]|\n",
            "|LP001008|  Male|     No|         0|    Graduate|           No|           6000|              0.0|       141|             360|             1|        Urban|          Y|        [6000.0,0.0]|\n",
            "|LP001011|  Male|    Yes|         2|    Graduate|          Yes|           5417|           4196.0|       267|             360|             1|        Urban|          Y|     [5417.0,4196.0]|\n",
            "|LP001013|  Male|    Yes|         0|Not Graduate|           No|           2333|           1516.0|        95|             360|             1|        Urban|          Y|     [2333.0,1516.0]|\n",
            "|LP001014|  Male|    Yes|        3+|    Graduate|           No|           3036|           2504.0|       158|             360|             0|    Semiurban|          N|     [3036.0,2504.0]|\n",
            "|LP001018|  Male|    Yes|         2|    Graduate|           No|           4006|           1526.0|       168|             360|             1|        Urban|          Y|     [4006.0,1526.0]|\n",
            "|LP001020|  Male|    Yes|         1|    Graduate|           No|          12841|          10968.0|       349|             360|             1|    Semiurban|          N|   [12841.0,10968.0]|\n",
            "|LP001024|  Male|    Yes|         2|    Graduate|           No|           3200|            700.0|        70|             360|             1|        Urban|          Y|      [3200.0,700.0]|\n",
            "|LP001028|  Male|    Yes|         2|    Graduate|           No|           3073|           8106.0|       200|             360|             1|        Urban|          Y|     [3073.0,8106.0]|\n",
            "|LP001029|  Male|     No|         0|    Graduate|           No|           1853|           2840.0|       114|             360|             1|        Rural|          N|     [1853.0,2840.0]|\n",
            "|LP001030|  Male|    Yes|         2|    Graduate|           No|           1299|           1086.0|        17|             120|             1|        Urban|          Y|     [1299.0,1086.0]|\n",
            "|LP001032|  Male|     No|         0|    Graduate|           No|           4950|              0.0|       125|             360|             1|        Urban|          Y|        [4950.0,0.0]|\n",
            "|LP001036|Female|     No|         0|    Graduate|           No|           3510|              0.0|        76|             360|             0|        Urban|          N|        [3510.0,0.0]|\n",
            "|LP001038|  Male|    Yes|         0|Not Graduate|           No|           4887|              0.0|       133|             360|             1|        Rural|          N|        [4887.0,0.0]|\n",
            "|LP001043|  Male|    Yes|         0|Not Graduate|           No|           7660|              0.0|       104|             360|             0|        Urban|          N|        [7660.0,0.0]|\n",
            "|LP001046|  Male|    Yes|         1|    Graduate|           No|           5955|           5625.0|       315|             360|             1|        Urban|          Y|     [5955.0,5625.0]|\n",
            "|LP001047|  Male|    Yes|         0|Not Graduate|           No|           2600|           1911.0|       116|             360|             0|    Semiurban|          N|     [2600.0,1911.0]|\n",
            "|LP001066|  Male|    Yes|         0|    Graduate|          Yes|           9560|              0.0|       191|             360|             1|    Semiurban|          Y|        [9560.0,0.0]|\n",
            "+--------+------+-------+----------+------------+-------------+---------------+-----------------+----------+----------------+--------------+-------------+-----------+--------------------+\n",
            "only showing top 20 rows\n",
            "\n"
          ]
        }
      ]
    },
    {
      "cell_type": "code",
      "source": [
        "output.columns"
      ],
      "metadata": {
        "colab": {
          "base_uri": "https://localhost:8080/"
        },
        "id": "3pFJvaLICzh7",
        "outputId": "1de5d974-7c39-4884-817b-84504953367d"
      },
      "execution_count": 43,
      "outputs": [
        {
          "output_type": "execute_result",
          "data": {
            "text/plain": [
              "['Loan_ID',\n",
              " 'Gender',\n",
              " 'Married',\n",
              " 'Dependents',\n",
              " 'Education',\n",
              " 'Self_Employed',\n",
              " 'ApplicantIncome',\n",
              " 'CoapplicantIncome',\n",
              " 'LoanAmount',\n",
              " 'Loan_Amount_Term',\n",
              " 'Credit_History',\n",
              " 'Property_Area',\n",
              " 'Loan_Status',\n",
              " 'Independent Features']"
            ]
          },
          "metadata": {},
          "execution_count": 43
        }
      ]
    },
    {
      "cell_type": "code",
      "source": [
        "# in this example we use applicant income and coapplicant income to predict loan amount\n",
        "final_data=output.select('Independent Features','LoanAmount')"
      ],
      "metadata": {
        "id": "XdN4E3yDCzRh"
      },
      "execution_count": 44,
      "outputs": []
    },
    {
      "cell_type": "code",
      "source": [
        " final_data.show()"
      ],
      "metadata": {
        "colab": {
          "base_uri": "https://localhost:8080/"
        },
        "id": "mR1xNBLIMdRF",
        "outputId": "16decff5-c0d3-43a0-bf2b-c9fc590ede97"
      },
      "execution_count": 45,
      "outputs": [
        {
          "output_type": "stream",
          "name": "stdout",
          "text": [
            "+--------------------+----------+\n",
            "|Independent Features|LoanAmount|\n",
            "+--------------------+----------+\n",
            "|     [4583.0,1508.0]|       128|\n",
            "|        [3000.0,0.0]|        66|\n",
            "|     [2583.0,2358.0]|       120|\n",
            "|        [6000.0,0.0]|       141|\n",
            "|     [5417.0,4196.0]|       267|\n",
            "|     [2333.0,1516.0]|        95|\n",
            "|     [3036.0,2504.0]|       158|\n",
            "|     [4006.0,1526.0]|       168|\n",
            "|   [12841.0,10968.0]|       349|\n",
            "|      [3200.0,700.0]|        70|\n",
            "|     [3073.0,8106.0]|       200|\n",
            "|     [1853.0,2840.0]|       114|\n",
            "|     [1299.0,1086.0]|        17|\n",
            "|        [4950.0,0.0]|       125|\n",
            "|        [3510.0,0.0]|        76|\n",
            "|        [4887.0,0.0]|       133|\n",
            "|        [7660.0,0.0]|       104|\n",
            "|     [5955.0,5625.0]|       315|\n",
            "|     [2600.0,1911.0]|       116|\n",
            "|        [9560.0,0.0]|       191|\n",
            "+--------------------+----------+\n",
            "only showing top 20 rows\n",
            "\n"
          ]
        }
      ]
    },
    {
      "cell_type": "code",
      "source": [
        "from pyspark.ml.regression import LinearRegression\n",
        "# train test split\n",
        "train_data,test_data=final_data.randomSplit([0.75,0.25])\n",
        "regressor=LinearRegression(featuresCol='Independent Features',labelCol='LoanAmount')\n",
        "regressor=regressor.fit(train_data)"
      ],
      "metadata": {
        "id": "t9UrDXkyM7yc"
      },
      "execution_count": 46,
      "outputs": []
    },
    {
      "cell_type": "code",
      "source": [
        "# coefficients\n",
        "regressor.coefficients"
      ],
      "metadata": {
        "colab": {
          "base_uri": "https://localhost:8080/"
        },
        "id": "grj6OkDMM7km",
        "outputId": "a7b36c63-f720-40ae-fac0-698f0e3c9980"
      },
      "execution_count": 47,
      "outputs": [
        {
          "output_type": "execute_result",
          "data": {
            "text/plain": [
              "DenseVector([0.0081, 0.0129])"
            ]
          },
          "metadata": {},
          "execution_count": 47
        }
      ]
    },
    {
      "cell_type": "code",
      "source": [
        "# intecept\n",
        "regressor.intercept"
      ],
      "metadata": {
        "colab": {
          "base_uri": "https://localhost:8080/"
        },
        "id": "h8FolHBXM7bz",
        "outputId": "6fcca7cc-7623-4eae-febf-79fbba86edea"
      },
      "execution_count": 48,
      "outputs": [
        {
          "output_type": "execute_result",
          "data": {
            "text/plain": [
              "83.01211442135035"
            ]
          },
          "metadata": {},
          "execution_count": 48
        }
      ]
    },
    {
      "cell_type": "code",
      "source": [
        "# prediction\n",
        "pred_results=regressor.evaluate(test_data)\n",
        "pred_results.predictions.show()"
      ],
      "metadata": {
        "colab": {
          "base_uri": "https://localhost:8080/"
        },
        "id": "GRyNuCbrM7SW",
        "outputId": "269322a9-4c25-40d9-f681-a47db174fcf4"
      },
      "execution_count": 49,
      "outputs": [
        {
          "output_type": "stream",
          "name": "stdout",
          "text": [
            "+--------------------+----------+------------------+\n",
            "|Independent Features|LoanAmount|        prediction|\n",
            "+--------------------+----------+------------------+\n",
            "|        [1442.0,0.0]|        35| 94.68645558650871|\n",
            "|     [1800.0,2934.0]|        93|135.52130490968466|\n",
            "|     [1811.0,1666.0]|        54| 119.2151704032911|\n",
            "|    [1836.0,33837.0]|        90| 535.3873255236127|\n",
            "|     [2014.0,1929.0]|        74| 124.2592252065125|\n",
            "|     [2014.0,2925.0]|       113| 137.1374657855541|\n",
            "|     [2031.0,1632.0]|       113|120.55665789068885|\n",
            "|     [2045.0,1619.0]|       101|120.50191152332778|\n",
            "|        [2178.0,0.0]|        66|100.64506522420396|\n",
            "|        [2221.0,0.0]|        60| 100.9931905155367|\n",
            "|        [2237.0,0.0]|        63| 101.1227255076605|\n",
            "|     [2239.0,2524.0]|       128|133.77413748358464|\n",
            "|     [2253.0,2033.0]|       110|127.53887003511724|\n",
            "|     [2309.0,1255.0]|       125|117.93273330022691|\n",
            "|     [2454.0,2333.0]|       181|133.04514149988995|\n",
            "|        [2479.0,0.0]|        59|103.08194226353314|\n",
            "|     [2499.0,2458.0]|       160|135.02570371782875|\n",
            "|    [2500.0,20000.0]|       103|361.85116535518586|\n",
            "|        [2507.0,0.0]|        56| 103.3086284997498|\n",
            "|        [2600.0,0.0]|       160|104.06155064146944|\n",
            "+--------------------+----------+------------------+\n",
            "only showing top 20 rows\n",
            "\n"
          ]
        }
      ]
    },
    {
      "cell_type": "code",
      "source": [
        "pred_results.meanAbsoluteError,pred_results.meanSquaredError\n"
      ],
      "metadata": {
        "colab": {
          "base_uri": "https://localhost:8080/"
        },
        "id": "b_TITNzuM7JG",
        "outputId": "7cbc3766-3b7c-4871-e8ff-c90cff09d6cf"
      },
      "execution_count": 50,
      "outputs": [
        {
          "output_type": "execute_result",
          "data": {
            "text/plain": [
              "(46.54334341138938, 6769.7751491008485)"
            ]
          },
          "metadata": {},
          "execution_count": 50
        }
      ]
    },
    {
      "cell_type": "code",
      "source": [],
      "metadata": {
        "id": "R-i4HDXgM7Af"
      },
      "execution_count": 50,
      "outputs": []
    },
    {
      "cell_type": "code",
      "source": [],
      "metadata": {
        "id": "44M5-bvyM63C"
      },
      "execution_count": 50,
      "outputs": []
    }
  ]
}